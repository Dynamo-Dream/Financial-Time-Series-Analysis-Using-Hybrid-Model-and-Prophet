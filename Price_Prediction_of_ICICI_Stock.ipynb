{
  "cells": [
    {
      "cell_type": "markdown",
      "source": [
        "# Price Prediction of ICICI Stock"
      ],
      "metadata": {
        "id": "Egml8BdOGKNM"
      },
      "id": "Egml8BdOGKNM"
    },
    {
      "cell_type": "code",
      "execution_count": null,
      "metadata": {
        "id": "9d6888cb"
      },
      "outputs": [],
      "source": [
        "import pandas as pd\n",
        "import numpy as np\n",
        "import matplotlib.pyplot as plt\n",
        "from statsmodels.tsa.ar_model import AutoReg\n",
        "import warnings\n",
        "import seaborn as sns\n",
        "warnings.filterwarnings(\"ignore\")"
      ],
      "id": "9d6888cb"
    },
    {
      "cell_type": "code",
      "execution_count": null,
      "metadata": {
        "id": "f82d2d98"
      },
      "outputs": [],
      "source": [
        "df = pd.read_csv(\"/content/icici bank data.csv\")"
      ],
      "id": "f82d2d98"
    },
    {
      "cell_type": "code",
      "execution_count": null,
      "metadata": {
        "colab": {
          "base_uri": "https://localhost:8080/",
          "height": 206
        },
        "id": "6e0f7192",
        "outputId": "caf1835d-6bdc-42a8-8071-0c1ba0211c23"
      },
      "outputs": [
        {
          "output_type": "execute_result",
          "data": {
            "text/plain": [
              "         Date  series    OPEN    HIGH    LOW   PREV. CLOSE     ltp   close   \\\n",
              "0  13-Nov-2023      EQ  940.90  940.90  932.0        942.35  934.10  934.45   \n",
              "1  12-Nov-2023      EQ  942.00  943.20  939.6        938.60  942.15  942.35   \n",
              "2  10-Nov-2023      EQ  934.90  941.45  932.4        937.35  940.50  938.60   \n",
              "3  09-Nov-2023      EQ  934.00  942.35  933.0        935.75  936.50  937.35   \n",
              "4  08-Nov-2023      EQ  948.45  948.45  934.1        948.10  935.70  935.75   \n",
              "\n",
              "    vwap     52W H   52W L       VOLUME               VALUE  No of trades   \n",
              "0  934.34  1,008.70   796.0  1,14,70,096  10,71,70,18,281.95      2,49,856  \n",
              "1  941.88  1,008.70   796.0    15,61,479   1,47,07,22,401.40        34,082  \n",
              "2  937.49  1,008.70   796.0    95,60,455   8,96,28,08,080.00      1,60,920  \n",
              "3  938.01  1,008.70   796.0    94,06,117   8,82,30,05,431.45      2,07,920  \n",
              "4  936.99  1,008.70   796.0  1,76,06,074  16,49,67,34,862.35      4,41,034  "
            ],
            "text/html": [
              "\n",
              "  <div id=\"df-d483c521-319d-4d57-b8a5-6822249a2df0\" class=\"colab-df-container\">\n",
              "    <div>\n",
              "<style scoped>\n",
              "    .dataframe tbody tr th:only-of-type {\n",
              "        vertical-align: middle;\n",
              "    }\n",
              "\n",
              "    .dataframe tbody tr th {\n",
              "        vertical-align: top;\n",
              "    }\n",
              "\n",
              "    .dataframe thead th {\n",
              "        text-align: right;\n",
              "    }\n",
              "</style>\n",
              "<table border=\"1\" class=\"dataframe\">\n",
              "  <thead>\n",
              "    <tr style=\"text-align: right;\">\n",
              "      <th></th>\n",
              "      <th>Date</th>\n",
              "      <th>series</th>\n",
              "      <th>OPEN</th>\n",
              "      <th>HIGH</th>\n",
              "      <th>LOW</th>\n",
              "      <th>PREV. CLOSE</th>\n",
              "      <th>ltp</th>\n",
              "      <th>close</th>\n",
              "      <th>vwap</th>\n",
              "      <th>52W H</th>\n",
              "      <th>52W L</th>\n",
              "      <th>VOLUME</th>\n",
              "      <th>VALUE</th>\n",
              "      <th>No of trades</th>\n",
              "    </tr>\n",
              "  </thead>\n",
              "  <tbody>\n",
              "    <tr>\n",
              "      <th>0</th>\n",
              "      <td>13-Nov-2023</td>\n",
              "      <td>EQ</td>\n",
              "      <td>940.90</td>\n",
              "      <td>940.90</td>\n",
              "      <td>932.0</td>\n",
              "      <td>942.35</td>\n",
              "      <td>934.10</td>\n",
              "      <td>934.45</td>\n",
              "      <td>934.34</td>\n",
              "      <td>1,008.70</td>\n",
              "      <td>796.0</td>\n",
              "      <td>1,14,70,096</td>\n",
              "      <td>10,71,70,18,281.95</td>\n",
              "      <td>2,49,856</td>\n",
              "    </tr>\n",
              "    <tr>\n",
              "      <th>1</th>\n",
              "      <td>12-Nov-2023</td>\n",
              "      <td>EQ</td>\n",
              "      <td>942.00</td>\n",
              "      <td>943.20</td>\n",
              "      <td>939.6</td>\n",
              "      <td>938.60</td>\n",
              "      <td>942.15</td>\n",
              "      <td>942.35</td>\n",
              "      <td>941.88</td>\n",
              "      <td>1,008.70</td>\n",
              "      <td>796.0</td>\n",
              "      <td>15,61,479</td>\n",
              "      <td>1,47,07,22,401.40</td>\n",
              "      <td>34,082</td>\n",
              "    </tr>\n",
              "    <tr>\n",
              "      <th>2</th>\n",
              "      <td>10-Nov-2023</td>\n",
              "      <td>EQ</td>\n",
              "      <td>934.90</td>\n",
              "      <td>941.45</td>\n",
              "      <td>932.4</td>\n",
              "      <td>937.35</td>\n",
              "      <td>940.50</td>\n",
              "      <td>938.60</td>\n",
              "      <td>937.49</td>\n",
              "      <td>1,008.70</td>\n",
              "      <td>796.0</td>\n",
              "      <td>95,60,455</td>\n",
              "      <td>8,96,28,08,080.00</td>\n",
              "      <td>1,60,920</td>\n",
              "    </tr>\n",
              "    <tr>\n",
              "      <th>3</th>\n",
              "      <td>09-Nov-2023</td>\n",
              "      <td>EQ</td>\n",
              "      <td>934.00</td>\n",
              "      <td>942.35</td>\n",
              "      <td>933.0</td>\n",
              "      <td>935.75</td>\n",
              "      <td>936.50</td>\n",
              "      <td>937.35</td>\n",
              "      <td>938.01</td>\n",
              "      <td>1,008.70</td>\n",
              "      <td>796.0</td>\n",
              "      <td>94,06,117</td>\n",
              "      <td>8,82,30,05,431.45</td>\n",
              "      <td>2,07,920</td>\n",
              "    </tr>\n",
              "    <tr>\n",
              "      <th>4</th>\n",
              "      <td>08-Nov-2023</td>\n",
              "      <td>EQ</td>\n",
              "      <td>948.45</td>\n",
              "      <td>948.45</td>\n",
              "      <td>934.1</td>\n",
              "      <td>948.10</td>\n",
              "      <td>935.70</td>\n",
              "      <td>935.75</td>\n",
              "      <td>936.99</td>\n",
              "      <td>1,008.70</td>\n",
              "      <td>796.0</td>\n",
              "      <td>1,76,06,074</td>\n",
              "      <td>16,49,67,34,862.35</td>\n",
              "      <td>4,41,034</td>\n",
              "    </tr>\n",
              "  </tbody>\n",
              "</table>\n",
              "</div>\n",
              "    <div class=\"colab-df-buttons\">\n",
              "\n",
              "  <div class=\"colab-df-container\">\n",
              "    <button class=\"colab-df-convert\" onclick=\"convertToInteractive('df-d483c521-319d-4d57-b8a5-6822249a2df0')\"\n",
              "            title=\"Convert this dataframe to an interactive table.\"\n",
              "            style=\"display:none;\">\n",
              "\n",
              "  <svg xmlns=\"http://www.w3.org/2000/svg\" height=\"24px\" viewBox=\"0 -960 960 960\">\n",
              "    <path d=\"M120-120v-720h720v720H120Zm60-500h600v-160H180v160Zm220 220h160v-160H400v160Zm0 220h160v-160H400v160ZM180-400h160v-160H180v160Zm440 0h160v-160H620v160ZM180-180h160v-160H180v160Zm440 0h160v-160H620v160Z\"/>\n",
              "  </svg>\n",
              "    </button>\n",
              "\n",
              "  <style>\n",
              "    .colab-df-container {\n",
              "      display:flex;\n",
              "      gap: 12px;\n",
              "    }\n",
              "\n",
              "    .colab-df-convert {\n",
              "      background-color: #E8F0FE;\n",
              "      border: none;\n",
              "      border-radius: 50%;\n",
              "      cursor: pointer;\n",
              "      display: none;\n",
              "      fill: #1967D2;\n",
              "      height: 32px;\n",
              "      padding: 0 0 0 0;\n",
              "      width: 32px;\n",
              "    }\n",
              "\n",
              "    .colab-df-convert:hover {\n",
              "      background-color: #E2EBFA;\n",
              "      box-shadow: 0px 1px 2px rgba(60, 64, 67, 0.3), 0px 1px 3px 1px rgba(60, 64, 67, 0.15);\n",
              "      fill: #174EA6;\n",
              "    }\n",
              "\n",
              "    .colab-df-buttons div {\n",
              "      margin-bottom: 4px;\n",
              "    }\n",
              "\n",
              "    [theme=dark] .colab-df-convert {\n",
              "      background-color: #3B4455;\n",
              "      fill: #D2E3FC;\n",
              "    }\n",
              "\n",
              "    [theme=dark] .colab-df-convert:hover {\n",
              "      background-color: #434B5C;\n",
              "      box-shadow: 0px 1px 3px 1px rgba(0, 0, 0, 0.15);\n",
              "      filter: drop-shadow(0px 1px 2px rgba(0, 0, 0, 0.3));\n",
              "      fill: #FFFFFF;\n",
              "    }\n",
              "  </style>\n",
              "\n",
              "    <script>\n",
              "      const buttonEl =\n",
              "        document.querySelector('#df-d483c521-319d-4d57-b8a5-6822249a2df0 button.colab-df-convert');\n",
              "      buttonEl.style.display =\n",
              "        google.colab.kernel.accessAllowed ? 'block' : 'none';\n",
              "\n",
              "      async function convertToInteractive(key) {\n",
              "        const element = document.querySelector('#df-d483c521-319d-4d57-b8a5-6822249a2df0');\n",
              "        const dataTable =\n",
              "          await google.colab.kernel.invokeFunction('convertToInteractive',\n",
              "                                                    [key], {});\n",
              "        if (!dataTable) return;\n",
              "\n",
              "        const docLinkHtml = 'Like what you see? Visit the ' +\n",
              "          '<a target=\"_blank\" href=https://colab.research.google.com/notebooks/data_table.ipynb>data table notebook</a>'\n",
              "          + ' to learn more about interactive tables.';\n",
              "        element.innerHTML = '';\n",
              "        dataTable['output_type'] = 'display_data';\n",
              "        await google.colab.output.renderOutput(dataTable, element);\n",
              "        const docLink = document.createElement('div');\n",
              "        docLink.innerHTML = docLinkHtml;\n",
              "        element.appendChild(docLink);\n",
              "      }\n",
              "    </script>\n",
              "  </div>\n",
              "\n",
              "\n",
              "<div id=\"df-4b3ff1aa-3411-43eb-8a67-4b1a7c3d2e8a\">\n",
              "  <button class=\"colab-df-quickchart\" onclick=\"quickchart('df-4b3ff1aa-3411-43eb-8a67-4b1a7c3d2e8a')\"\n",
              "            title=\"Suggest charts\"\n",
              "            style=\"display:none;\">\n",
              "\n",
              "<svg xmlns=\"http://www.w3.org/2000/svg\" height=\"24px\"viewBox=\"0 0 24 24\"\n",
              "     width=\"24px\">\n",
              "    <g>\n",
              "        <path d=\"M19 3H5c-1.1 0-2 .9-2 2v14c0 1.1.9 2 2 2h14c1.1 0 2-.9 2-2V5c0-1.1-.9-2-2-2zM9 17H7v-7h2v7zm4 0h-2V7h2v10zm4 0h-2v-4h2v4z\"/>\n",
              "    </g>\n",
              "</svg>\n",
              "  </button>\n",
              "\n",
              "<style>\n",
              "  .colab-df-quickchart {\n",
              "      --bg-color: #E8F0FE;\n",
              "      --fill-color: #1967D2;\n",
              "      --hover-bg-color: #E2EBFA;\n",
              "      --hover-fill-color: #174EA6;\n",
              "      --disabled-fill-color: #AAA;\n",
              "      --disabled-bg-color: #DDD;\n",
              "  }\n",
              "\n",
              "  [theme=dark] .colab-df-quickchart {\n",
              "      --bg-color: #3B4455;\n",
              "      --fill-color: #D2E3FC;\n",
              "      --hover-bg-color: #434B5C;\n",
              "      --hover-fill-color: #FFFFFF;\n",
              "      --disabled-bg-color: #3B4455;\n",
              "      --disabled-fill-color: #666;\n",
              "  }\n",
              "\n",
              "  .colab-df-quickchart {\n",
              "    background-color: var(--bg-color);\n",
              "    border: none;\n",
              "    border-radius: 50%;\n",
              "    cursor: pointer;\n",
              "    display: none;\n",
              "    fill: var(--fill-color);\n",
              "    height: 32px;\n",
              "    padding: 0;\n",
              "    width: 32px;\n",
              "  }\n",
              "\n",
              "  .colab-df-quickchart:hover {\n",
              "    background-color: var(--hover-bg-color);\n",
              "    box-shadow: 0 1px 2px rgba(60, 64, 67, 0.3), 0 1px 3px 1px rgba(60, 64, 67, 0.15);\n",
              "    fill: var(--button-hover-fill-color);\n",
              "  }\n",
              "\n",
              "  .colab-df-quickchart-complete:disabled,\n",
              "  .colab-df-quickchart-complete:disabled:hover {\n",
              "    background-color: var(--disabled-bg-color);\n",
              "    fill: var(--disabled-fill-color);\n",
              "    box-shadow: none;\n",
              "  }\n",
              "\n",
              "  .colab-df-spinner {\n",
              "    border: 2px solid var(--fill-color);\n",
              "    border-color: transparent;\n",
              "    border-bottom-color: var(--fill-color);\n",
              "    animation:\n",
              "      spin 1s steps(1) infinite;\n",
              "  }\n",
              "\n",
              "  @keyframes spin {\n",
              "    0% {\n",
              "      border-color: transparent;\n",
              "      border-bottom-color: var(--fill-color);\n",
              "      border-left-color: var(--fill-color);\n",
              "    }\n",
              "    20% {\n",
              "      border-color: transparent;\n",
              "      border-left-color: var(--fill-color);\n",
              "      border-top-color: var(--fill-color);\n",
              "    }\n",
              "    30% {\n",
              "      border-color: transparent;\n",
              "      border-left-color: var(--fill-color);\n",
              "      border-top-color: var(--fill-color);\n",
              "      border-right-color: var(--fill-color);\n",
              "    }\n",
              "    40% {\n",
              "      border-color: transparent;\n",
              "      border-right-color: var(--fill-color);\n",
              "      border-top-color: var(--fill-color);\n",
              "    }\n",
              "    60% {\n",
              "      border-color: transparent;\n",
              "      border-right-color: var(--fill-color);\n",
              "    }\n",
              "    80% {\n",
              "      border-color: transparent;\n",
              "      border-right-color: var(--fill-color);\n",
              "      border-bottom-color: var(--fill-color);\n",
              "    }\n",
              "    90% {\n",
              "      border-color: transparent;\n",
              "      border-bottom-color: var(--fill-color);\n",
              "    }\n",
              "  }\n",
              "</style>\n",
              "\n",
              "  <script>\n",
              "    async function quickchart(key) {\n",
              "      const quickchartButtonEl =\n",
              "        document.querySelector('#' + key + ' button');\n",
              "      quickchartButtonEl.disabled = true;  // To prevent multiple clicks.\n",
              "      quickchartButtonEl.classList.add('colab-df-spinner');\n",
              "      try {\n",
              "        const charts = await google.colab.kernel.invokeFunction(\n",
              "            'suggestCharts', [key], {});\n",
              "      } catch (error) {\n",
              "        console.error('Error during call to suggestCharts:', error);\n",
              "      }\n",
              "      quickchartButtonEl.classList.remove('colab-df-spinner');\n",
              "      quickchartButtonEl.classList.add('colab-df-quickchart-complete');\n",
              "    }\n",
              "    (() => {\n",
              "      let quickchartButtonEl =\n",
              "        document.querySelector('#df-4b3ff1aa-3411-43eb-8a67-4b1a7c3d2e8a button');\n",
              "      quickchartButtonEl.style.display =\n",
              "        google.colab.kernel.accessAllowed ? 'block' : 'none';\n",
              "    })();\n",
              "  </script>\n",
              "</div>\n",
              "\n",
              "    </div>\n",
              "  </div>\n"
            ]
          },
          "metadata": {},
          "execution_count": 3
        }
      ],
      "source": [
        "df.head()"
      ],
      "id": "6e0f7192"
    },
    {
      "cell_type": "code",
      "execution_count": null,
      "metadata": {
        "colab": {
          "base_uri": "https://localhost:8080/"
        },
        "id": "84de8bde",
        "outputId": "490da810-68c2-4bfa-fb56-1094225bb553"
      },
      "outputs": [
        {
          "output_type": "execute_result",
          "data": {
            "text/plain": [
              "Date             0\n",
              "series           0\n",
              "OPEN             0\n",
              "HIGH             0\n",
              "LOW              0\n",
              "PREV. CLOSE      0\n",
              "ltp              0\n",
              "close            0\n",
              "vwap             0\n",
              "52W H            0\n",
              "52W L            0\n",
              "VOLUME           0\n",
              "VALUE            0\n",
              "No of trades     0\n",
              "dtype: int64"
            ]
          },
          "metadata": {},
          "execution_count": 4
        }
      ],
      "source": [
        "df.isna().sum()"
      ],
      "id": "84de8bde"
    },
    {
      "cell_type": "code",
      "execution_count": null,
      "metadata": {
        "colab": {
          "base_uri": "https://localhost:8080/"
        },
        "id": "f8b1a171",
        "outputId": "ecdd4209-83c1-466a-be48-1d703190b9d5"
      },
      "outputs": [
        {
          "output_type": "execute_result",
          "data": {
            "text/plain": [
              "Index(['Date ', 'series ', 'OPEN ', 'HIGH ', 'LOW ', 'PREV. CLOSE ', 'ltp ',\n",
              "       'close ', 'vwap ', '52W H ', '52W L ', 'VOLUME ', 'VALUE ',\n",
              "       'No of trades '],\n",
              "      dtype='object')"
            ]
          },
          "metadata": {},
          "execution_count": 5
        }
      ],
      "source": [
        "df.columns"
      ],
      "id": "f8b1a171"
    },
    {
      "cell_type": "code",
      "execution_count": null,
      "metadata": {
        "colab": {
          "base_uri": "https://localhost:8080/",
          "height": 410
        },
        "id": "a0312dcc",
        "outputId": "10e3c37a-f871-4f87-c982-85a13ad51b19",
        "scrolled": true
      },
      "outputs": [
        {
          "output_type": "display_data",
          "data": {
            "text/plain": [
              "<Figure size 800x400 with 1 Axes>"
            ],
            "image/png": "[encoded data removed]"
          },
          "metadata": {}
        }
      ],
      "source": [
        "target = 'close '\n",
        "stock_name = \"ICICI\"\n",
        "plt.figure(figsize=(8, 4))\n",
        "plt.plot(df[target], label='Close Price')\n",
        "plt.title( stock_name +' Price Over Time')\n",
        "plt.xlabel('Date')\n",
        "plt.ylabel('Close Price')\n",
        "plt.legend()\n",
        "plt.show()"
      ],
      "id": "a0312dcc"
    },
    {
      "cell_type": "code",
      "execution_count": null,
      "metadata": {
        "colab": {
          "base_uri": "https://localhost:8080/",
          "height": 410
        },
        "id": "81b40135",
        "outputId": "abc269ae-1e46-4bbd-8411-1d2d6a6b4024"
      },
      "outputs": [
        {
          "output_type": "display_data",
          "data": {
            "text/plain": [
              "<Figure size 800x400 with 1 Axes>"
            ],
            "image/png": "[encoded data removed]"
          },
          "metadata": {}
        }
      ],
      "source": [
        "daily_returns = df[target].pct_change()\n",
        "plt.figure(figsize=(8, 4))\n",
        "plt.plot(daily_returns, label='Daily Returns', color='green')\n",
        "plt.title(stock_name+ ' Daily Returns Over Time')\n",
        "plt.xlabel('Date')\n",
        "plt.ylabel('Daily Returns')\n",
        "plt.legend()\n",
        "plt.show()"
      ],
      "id": "81b40135"
    },
    {
      "cell_type": "code",
      "execution_count": null,
      "metadata": {
        "colab": {
          "base_uri": "https://localhost:8080/"
        },
        "id": "03d80a86",
        "outputId": "c8a2a12b-200a-4bd7-80fa-085acde31815"
      },
      "outputs": [
        {
          "output_type": "stream",
          "name": "stdout",
          "text": [
            "Summary Statistics:\n",
            "count    250.00000\n",
            "mean     919.53380\n",
            "std       44.00584\n",
            "min      817.20000\n",
            "25%      882.37500\n",
            "50%      930.45000\n",
            "75%      950.57500\n",
            "max      998.30000\n",
            "Name: close , dtype: float64\n"
          ]
        }
      ],
      "source": [
        "print(\"Summary Statistics:\")\n",
        "print(df[target].describe())"
      ],
      "id": "03d80a86"
    },
    {
      "cell_type": "code",
      "execution_count": null,
      "metadata": {
        "id": "71ce7b3a"
      },
      "outputs": [],
      "source": [],
      "id": "71ce7b3a"
    },
    {
      "cell_type": "code",
      "execution_count": null,
      "metadata": {
        "colab": {
          "base_uri": "https://localhost:8080/",
          "height": 410
        },
        "id": "07021ebb",
        "outputId": "0c0a9369-95d9-45d8-add7-6d7a3959b913"
      },
      "outputs": [
        {
          "output_type": "display_data",
          "data": {
            "text/plain": [
              "<Figure size 800x400 with 1 Axes>"
            ],
            "image/png": "[encoded data removed]"
          },
          "metadata": {}
        }
      ],
      "source": [
        "window = 20\n",
        "df['Rolling Mean'] = df[target].rolling(window=window,min_periods=1).mean()\n",
        "df['Rolling Std'] = df[target].rolling(window=window,min_periods=1).std()\n",
        "\n",
        "plt.figure(figsize=(8, 4))\n",
        "plt.plot(df[target], label='Close Price')\n",
        "plt.plot(df['Rolling Mean'],  linestyle='--', color='orange')\n",
        "plt.plot(df['Rolling Std'], linestyle='--', color='red')\n",
        "plt.title(stock_name + ' Stock Price with Rolling Mean and Rolling Std')\n",
        "plt.xlabel('Date')\n",
        "plt.ylabel('Value')\n",
        "plt.legend()\n",
        "plt.show()"
      ],
      "id": "07021ebb"
    },
    {
      "cell_type": "code",
      "execution_count": null,
      "metadata": {
        "id": "18257182"
      },
      "outputs": [],
      "source": [],
      "id": "18257182"
    },
    {
      "cell_type": "code",
      "execution_count": null,
      "metadata": {
        "id": "4f3204d1"
      },
      "outputs": [],
      "source": [],
      "id": "4f3204d1"
    },
    {
      "cell_type": "code",
      "execution_count": null,
      "metadata": {
        "colab": {
          "base_uri": "https://localhost:8080/",
          "height": 807
        },
        "id": "6a9e45e8",
        "outputId": "354397e1-6fce-44db-9448-c5295a5b0a52",
        "scrolled": true
      },
      "outputs": [
        {
          "output_type": "display_data",
          "data": {
            "text/plain": [
              "<Figure size 1200x800 with 4 Axes>"
            ],
            "image/png": "[encoded data removed]"
          },
          "metadata": {}
        }
      ],
      "source": [
        "from statsmodels.tsa.seasonal import seasonal_decompose\n",
        "result = seasonal_decompose(df[\"Rolling Mean\"], model='additive', period=1)\n",
        "plt.figure(figsize=(12, 8))\n",
        "\n",
        "plt.subplot(4, 1, 1)\n",
        "plt.plot(df.index,df[\"Rolling Mean\"], label='Original')\n",
        "plt.legend()\n",
        "\n",
        "plt.subplot(4, 1, 2)\n",
        "plt.plot(result.trend, label='Trend')\n",
        "plt.legend()\n",
        "\n",
        "plt.subplot(4, 1, 3)\n",
        "plt.plot(result.seasonal, label='Seasonal')\n",
        "plt.legend()\n",
        "\n",
        "plt.subplot(4, 1, 4)\n",
        "plt.plot(result.resid, label='Residual')\n",
        "plt.legend()\n",
        "\n",
        "plt.tight_layout()\n",
        "plt.show()"
      ],
      "id": "6a9e45e8"
    },
    {
      "cell_type": "code",
      "execution_count": null,
      "metadata": {
        "colab": {
          "base_uri": "https://localhost:8080/",
          "height": 452
        },
        "id": "e6064f38",
        "outputId": "642fc714-61e6-4786-ea8d-5b9b326661fa"
      },
      "outputs": [
        {
          "output_type": "display_data",
          "data": {
            "text/plain": [
              "<Figure size 640x480 with 1 Axes>"
            ],
            "image/png": "[encoded data removed]"
          },
          "metadata": {}
        }
      ],
      "source": [
        "from statsmodels.graphics.tsaplots import plot_pacf,plot_acf\n",
        "lag = 20\n",
        "acf = plot_acf(df[target],lags = lag)"
      ],
      "id": "e6064f38"
    },
    {
      "cell_type": "markdown",
      "metadata": {
        "id": "5c1802bf"
      },
      "source": [],
      "id": "5c1802bf"
    },
    {
      "cell_type": "code",
      "execution_count": null,
      "metadata": {
        "colab": {
          "base_uri": "https://localhost:8080/"
        },
        "id": "e2a062ac",
        "outputId": "6d763942-1c42-4457-9856-449fd884d2d6"
      },
      "outputs": [
        {
          "output_type": "stream",
          "name": "stdout",
          "text": [
            "ADF:  -1.4931493078604567\n",
            "P-Value:  0.5368975152340314\n",
            "Num Of Lags:  0\n",
            "Num of observation used for ADF Regression and Critical Values Calculation:  249\n",
            "Critical Value\n",
            "\t 1% :  -3.4568881317725864\n",
            "\t 5% :  -2.8732185133016057\n",
            "\t 10% :  -2.5729936189738876\n"
          ]
        }
      ],
      "source": [
        "from statsmodels.tsa.stattools import adfuller\n",
        "dftest = adfuller(df[target],autolag='AIC')\n",
        "print(\"ADF: \", dftest[0])\n",
        "print(\"P-Value: \", dftest[1])\n",
        "print(\"Num Of Lags: \", dftest[2])\n",
        "print(\"Num of observation used for ADF Regression and Critical Values Calculation: \", dftest[3])\n",
        "print(\"Critical Value\")\n",
        "for key,val in dftest[4].items():\n",
        "    print(\"\\t\",key,\": \",val)"
      ],
      "id": "e2a062ac"
    },
    {
      "cell_type": "code",
      "execution_count": null,
      "metadata": {
        "id": "157c2316"
      },
      "outputs": [],
      "source": [
        "df.set_index(\"Date \", inplace=True)\n",
        "data = df[target]"
      ],
      "id": "157c2316"
    },
    {
      "cell_type": "code",
      "source": [],
      "metadata": {
        "id": "wFazxG8LHO2y"
      },
      "id": "wFazxG8LHO2y",
      "execution_count": null,
      "outputs": []
    },
    {
      "cell_type": "code",
      "execution_count": null,
      "metadata": {
        "colab": {
          "base_uri": "https://localhost:8080/",
          "height": 237
        },
        "id": "cd6bfc2b",
        "outputId": "a80276ba-8821-4611-bd13-a4d5fada0894"
      },
      "outputs": [
        {
          "output_type": "execute_result",
          "data": {
            "text/plain": [
              "             close \n",
              "Date               \n",
              "13-Nov-2023  934.45\n",
              "12-Nov-2023  942.35\n",
              "10-Nov-2023  938.60\n",
              "09-Nov-2023  937.35\n",
              "08-Nov-2023  935.75"
            ],
            "text/html": [
              "\n",
              "  <div id=\"df-31d66fe9-8f55-45cc-844b-061beded5366\" class=\"colab-df-container\">\n",
              "    <div>\n",
              "<style scoped>\n",
              "    .dataframe tbody tr th:only-of-type {\n",
              "        vertical-align: middle;\n",
              "    }\n",
              "\n",
              "    .dataframe tbody tr th {\n",
              "        vertical-align: top;\n",
              "    }\n",
              "\n",
              "    .dataframe thead th {\n",
              "        text-align: right;\n",
              "    }\n",
              "</style>\n",
              "<table border=\"1\" class=\"dataframe\">\n",
              "  <thead>\n",
              "    <tr style=\"text-align: right;\">\n",
              "      <th></th>\n",
              "      <th>close</th>\n",
              "    </tr>\n",
              "    <tr>\n",
              "      <th>Date</th>\n",
              "      <th></th>\n",
              "    </tr>\n",
              "  </thead>\n",
              "  <tbody>\n",
              "    <tr>\n",
              "      <th>13-Nov-2023</th>\n",
              "      <td>934.45</td>\n",
              "    </tr>\n",
              "    <tr>\n",
              "      <th>12-Nov-2023</th>\n",
              "      <td>942.35</td>\n",
              "    </tr>\n",
              "    <tr>\n",
              "      <th>10-Nov-2023</th>\n",
              "      <td>938.60</td>\n",
              "    </tr>\n",
              "    <tr>\n",
              "      <th>09-Nov-2023</th>\n",
              "      <td>937.35</td>\n",
              "    </tr>\n",
              "    <tr>\n",
              "      <th>08-Nov-2023</th>\n",
              "      <td>935.75</td>\n",
              "    </tr>\n",
              "  </tbody>\n",
              "</table>\n",
              "</div>\n",
              "    <div class=\"colab-df-buttons\">\n",
              "\n",
              "  <div class=\"colab-df-container\">\n",
              "    <button class=\"colab-df-convert\" onclick=\"convertToInteractive('df-31d66fe9-8f55-45cc-844b-061beded5366')\"\n",
              "            title=\"Convert this dataframe to an interactive table.\"\n",
              "            style=\"display:none;\">\n",
              "\n",
              "  <svg xmlns=\"http://www.w3.org/2000/svg\" height=\"24px\" viewBox=\"0 -960 960 960\">\n",
              "    <path d=\"M120-120v-720h720v720H120Zm60-500h600v-160H180v160Zm220 220h160v-160H400v160Zm0 220h160v-160H400v160ZM180-400h160v-160H180v160Zm440 0h160v-160H620v160ZM180-180h160v-160H180v160Zm440 0h160v-160H620v160Z\"/>\n",
              "  </svg>\n",
              "    </button>\n",
              "\n",
              "  <style>\n",
              "    .colab-df-container {\n",
              "      display:flex;\n",
              "      gap: 12px;\n",
              "    }\n",
              "\n",
              "    .colab-df-convert {\n",
              "      background-color: #E8F0FE;\n",
              "      border: none;\n",
              "      border-radius: 50%;\n",
              "      cursor: pointer;\n",
              "      display: none;\n",
              "      fill: #1967D2;\n",
              "      height: 32px;\n",
              "      padding: 0 0 0 0;\n",
              "      width: 32px;\n",
              "    }\n",
              "\n",
              "    .colab-df-convert:hover {\n",
              "      background-color: #E2EBFA;\n",
              "      box-shadow: 0px 1px 2px rgba(60, 64, 67, 0.3), 0px 1px 3px 1px rgba(60, 64, 67, 0.15);\n",
              "      fill: #174EA6;\n",
              "    }\n",
              "\n",
              "    .colab-df-buttons div {\n",
              "      margin-bottom: 4px;\n",
              "    }\n",
              "\n",
              "    [theme=dark] .colab-df-convert {\n",
              "      background-color: #3B4455;\n",
              "      fill: #D2E3FC;\n",
              "    }\n",
              "\n",
              "    [theme=dark] .colab-df-convert:hover {\n",
              "      background-color: #434B5C;\n",
              "      box-shadow: 0px 1px 3px 1px rgba(0, 0, 0, 0.15);\n",
              "      filter: drop-shadow(0px 1px 2px rgba(0, 0, 0, 0.3));\n",
              "      fill: #FFFFFF;\n",
              "    }\n",
              "  </style>\n",
              "\n",
              "    <script>\n",
              "      const buttonEl =\n",
              "        document.querySelector('#df-31d66fe9-8f55-45cc-844b-061beded5366 button.colab-df-convert');\n",
              "      buttonEl.style.display =\n",
              "        google.colab.kernel.accessAllowed ? 'block' : 'none';\n",
              "\n",
              "      async function convertToInteractive(key) {\n",
              "        const element = document.querySelector('#df-31d66fe9-8f55-45cc-844b-061beded5366');\n",
              "        const dataTable =\n",
              "          await google.colab.kernel.invokeFunction('convertToInteractive',\n",
              "                                                    [key], {});\n",
              "        if (!dataTable) return;\n",
              "\n",
              "        const docLinkHtml = 'Like what you see? Visit the ' +\n",
              "          '<a target=\"_blank\" href=https://colab.research.google.com/notebooks/data_table.ipynb>data table notebook</a>'\n",
              "          + ' to learn more about interactive tables.';\n",
              "        element.innerHTML = '';\n",
              "        dataTable['output_type'] = 'display_data';\n",
              "        await google.colab.output.renderOutput(dataTable, element);\n",
              "        const docLink = document.createElement('div');\n",
              "        docLink.innerHTML = docLinkHtml;\n",
              "        element.appendChild(docLink);\n",
              "      }\n",
              "    </script>\n",
              "  </div>\n",
              "\n",
              "\n",
              "<div id=\"df-5dd5ec58-da26-423f-ab46-42529d3815cc\">\n",
              "  <button class=\"colab-df-quickchart\" onclick=\"quickchart('df-5dd5ec58-da26-423f-ab46-42529d3815cc')\"\n",
              "            title=\"Suggest charts\"\n",
              "            style=\"display:none;\">\n",
              "\n",
              "<svg xmlns=\"http://www.w3.org/2000/svg\" height=\"24px\"viewBox=\"0 0 24 24\"\n",
              "     width=\"24px\">\n",
              "    <g>\n",
              "        <path d=\"M19 3H5c-1.1 0-2 .9-2 2v14c0 1.1.9 2 2 2h14c1.1 0 2-.9 2-2V5c0-1.1-.9-2-2-2zM9 17H7v-7h2v7zm4 0h-2V7h2v10zm4 0h-2v-4h2v4z\"/>\n",
              "    </g>\n",
              "</svg>\n",
              "  </button>\n",
              "\n",
              "<style>\n",
              "  .colab-df-quickchart {\n",
              "      --bg-color: #E8F0FE;\n",
              "      --fill-color: #1967D2;\n",
              "      --hover-bg-color: #E2EBFA;\n",
              "      --hover-fill-color: #174EA6;\n",
              "      --disabled-fill-color: #AAA;\n",
              "      --disabled-bg-color: #DDD;\n",
              "  }\n",
              "\n",
              "  [theme=dark] .colab-df-quickchart {\n",
              "      --bg-color: #3B4455;\n",
              "      --fill-color: #D2E3FC;\n",
              "      --hover-bg-color: #434B5C;\n",
              "      --hover-fill-color: #FFFFFF;\n",
              "      --disabled-bg-color: #3B4455;\n",
              "      --disabled-fill-color: #666;\n",
              "  }\n",
              "\n",
              "  .colab-df-quickchart {\n",
              "    background-color: var(--bg-color);\n",
              "    border: none;\n",
              "    border-radius: 50%;\n",
              "    cursor: pointer;\n",
              "    display: none;\n",
              "    fill: var(--fill-color);\n",
              "    height: 32px;\n",
              "    padding: 0;\n",
              "    width: 32px;\n",
              "  }\n",
              "\n",
              "  .colab-df-quickchart:hover {\n",
              "    background-color: var(--hover-bg-color);\n",
              "    box-shadow: 0 1px 2px rgba(60, 64, 67, 0.3), 0 1px 3px 1px rgba(60, 64, 67, 0.15);\n",
              "    fill: var(--button-hover-fill-color);\n",
              "  }\n",
              "\n",
              "  .colab-df-quickchart-complete:disabled,\n",
              "  .colab-df-quickchart-complete:disabled:hover {\n",
              "    background-color: var(--disabled-bg-color);\n",
              "    fill: var(--disabled-fill-color);\n",
              "    box-shadow: none;\n",
              "  }\n",
              "\n",
              "  .colab-df-spinner {\n",
              "    border: 2px solid var(--fill-color);\n",
              "    border-color: transparent;\n",
              "    border-bottom-color: var(--fill-color);\n",
              "    animation:\n",
              "      spin 1s steps(1) infinite;\n",
              "  }\n",
              "\n",
              "  @keyframes spin {\n",
              "    0% {\n",
              "      border-color: transparent;\n",
              "      border-bottom-color: var(--fill-color);\n",
              "      border-left-color: var(--fill-color);\n",
              "    }\n",
              "    20% {\n",
              "      border-color: transparent;\n",
              "      border-left-color: var(--fill-color);\n",
              "      border-top-color: var(--fill-color);\n",
              "    }\n",
              "    30% {\n",
              "      border-color: transparent;\n",
              "      border-left-color: var(--fill-color);\n",
              "      border-top-color: var(--fill-color);\n",
              "      border-right-color: var(--fill-color);\n",
              "    }\n",
              "    40% {\n",
              "      border-color: transparent;\n",
              "      border-right-color: var(--fill-color);\n",
              "      border-top-color: var(--fill-color);\n",
              "    }\n",
              "    60% {\n",
              "      border-color: transparent;\n",
              "      border-right-color: var(--fill-color);\n",
              "    }\n",
              "    80% {\n",
              "      border-color: transparent;\n",
              "      border-right-color: var(--fill-color);\n",
              "      border-bottom-color: var(--fill-color);\n",
              "    }\n",
              "    90% {\n",
              "      border-color: transparent;\n",
              "      border-bottom-color: var(--fill-color);\n",
              "    }\n",
              "  }\n",
              "</style>\n",
              "\n",
              "  <script>\n",
              "    async function quickchart(key) {\n",
              "      const quickchartButtonEl =\n",
              "        document.querySelector('#' + key + ' button');\n",
              "      quickchartButtonEl.disabled = true;  // To prevent multiple clicks.\n",
              "      quickchartButtonEl.classList.add('colab-df-spinner');\n",
              "      try {\n",
              "        const charts = await google.colab.kernel.invokeFunction(\n",
              "            'suggestCharts', [key], {});\n",
              "      } catch (error) {\n",
              "        console.error('Error during call to suggestCharts:', error);\n",
              "      }\n",
              "      quickchartButtonEl.classList.remove('colab-df-spinner');\n",
              "      quickchartButtonEl.classList.add('colab-df-quickchart-complete');\n",
              "    }\n",
              "    (() => {\n",
              "      let quickchartButtonEl =\n",
              "        document.querySelector('#df-5dd5ec58-da26-423f-ab46-42529d3815cc button');\n",
              "      quickchartButtonEl.style.display =\n",
              "        google.colab.kernel.accessAllowed ? 'block' : 'none';\n",
              "    })();\n",
              "  </script>\n",
              "</div>\n",
              "\n",
              "    </div>\n",
              "  </div>\n"
            ]
          },
          "metadata": {},
          "execution_count": 14
        }
      ],
      "source": [
        "data = pd.DataFrame(data,columns=['close '])\n",
        "data.head()"
      ],
      "id": "cd6bfc2b"
    },
    {
      "cell_type": "code",
      "execution_count": null,
      "metadata": {
        "id": "94484075"
      },
      "outputs": [],
      "source": [
        "from sklearn.preprocessing import MinMaxScaler\n",
        "scaler = MinMaxScaler()"
      ],
      "id": "94484075"
    },
    {
      "cell_type": "code",
      "execution_count": null,
      "metadata": {
        "id": "f7643e37"
      },
      "outputs": [],
      "source": [
        "length = data.size\n",
        "timestamp = 20\n",
        "percent_data = 0.85"
      ],
      "id": "f7643e37"
    },
    {
      "cell_type": "code",
      "source": [
        "data"
      ],
      "metadata": {
        "colab": {
          "base_uri": "https://localhost:8080/",
          "height": 455
        },
        "id": "POokqImEG9IS",
        "outputId": "966e3f28-ec58-4594-bc9c-3dc0be24f81c"
      },
      "id": "POokqImEG9IS",
      "execution_count": null,
      "outputs": [
        {
          "output_type": "execute_result",
          "data": {
            "text/plain": [
              "             close \n",
              "Date               \n",
              "13-Nov-2023  934.45\n",
              "12-Nov-2023  942.35\n",
              "10-Nov-2023  938.60\n",
              "09-Nov-2023  937.35\n",
              "08-Nov-2023  935.75\n",
              "...             ...\n",
              "18-Nov-2022  920.35\n",
              "17-Nov-2022  919.80\n",
              "16-Nov-2022  913.60\n",
              "15-Nov-2022  911.70\n",
              "14-Nov-2022  894.95\n",
              "\n",
              "[250 rows x 1 columns]"
            ],
            "text/html": [
              "\n",
              "  <div id=\"df-087e46ba-7c8c-48b2-952c-a2ecd135f5d0\" class=\"colab-df-container\">\n",
              "    <div>\n",
              "<style scoped>\n",
              "    .dataframe tbody tr th:only-of-type {\n",
              "        vertical-align: middle;\n",
              "    }\n",
              "\n",
              "    .dataframe tbody tr th {\n",
              "        vertical-align: top;\n",
              "    }\n",
              "\n",
              "    .dataframe thead th {\n",
              "        text-align: right;\n",
              "    }\n",
              "</style>\n",
              "<table border=\"1\" class=\"dataframe\">\n",
              "  <thead>\n",
              "    <tr style=\"text-align: right;\">\n",
              "      <th></th>\n",
              "      <th>close</th>\n",
              "    </tr>\n",
              "    <tr>\n",
              "      <th>Date</th>\n",
              "      <th></th>\n",
              "    </tr>\n",
              "  </thead>\n",
              "  <tbody>\n",
              "    <tr>\n",
              "      <th>13-Nov-2023</th>\n",
              "      <td>934.45</td>\n",
              "    </tr>\n",
              "    <tr>\n",
              "      <th>12-Nov-2023</th>\n",
              "      <td>942.35</td>\n",
              "    </tr>\n",
              "    <tr>\n",
              "      <th>10-Nov-2023</th>\n",
              "      <td>938.60</td>\n",
              "    </tr>\n",
              "    <tr>\n",
              "      <th>09-Nov-2023</th>\n",
              "      <td>937.35</td>\n",
              "    </tr>\n",
              "    <tr>\n",
              "      <th>08-Nov-2023</th>\n",
              "      <td>935.75</td>\n",
              "    </tr>\n",
              "    <tr>\n",
              "      <th>...</th>\n",
              "      <td>...</td>\n",
              "    </tr>\n",
              "    <tr>\n",
              "      <th>18-Nov-2022</th>\n",
              "      <td>920.35</td>\n",
              "    </tr>\n",
              "    <tr>\n",
              "      <th>17-Nov-2022</th>\n",
              "      <td>919.80</td>\n",
              "    </tr>\n",
              "    <tr>\n",
              "      <th>16-Nov-2022</th>\n",
              "      <td>913.60</td>\n",
              "    </tr>\n",
              "    <tr>\n",
              "      <th>15-Nov-2022</th>\n",
              "      <td>911.70</td>\n",
              "    </tr>\n",
              "    <tr>\n",
              "      <th>14-Nov-2022</th>\n",
              "      <td>894.95</td>\n",
              "    </tr>\n",
              "  </tbody>\n",
              "</table>\n",
              "<p>250 rows × 1 columns</p>\n",
              "</div>\n",
              "    <div class=\"colab-df-buttons\">\n",
              "\n",
              "  <div class=\"colab-df-container\">\n",
              "    <button class=\"colab-df-convert\" onclick=\"convertToInteractive('df-087e46ba-7c8c-48b2-952c-a2ecd135f5d0')\"\n",
              "            title=\"Convert this dataframe to an interactive table.\"\n",
              "            style=\"display:none;\">\n",
              "\n",
              "  <svg xmlns=\"http://www.w3.org/2000/svg\" height=\"24px\" viewBox=\"0 -960 960 960\">\n",
              "    <path d=\"M120-120v-720h720v720H120Zm60-500h600v-160H180v160Zm220 220h160v-160H400v160Zm0 220h160v-160H400v160ZM180-400h160v-160H180v160Zm440 0h160v-160H620v160ZM180-180h160v-160H180v160Zm440 0h160v-160H620v160Z\"/>\n",
              "  </svg>\n",
              "    </button>\n",
              "\n",
              "  <style>\n",
              "    .colab-df-container {\n",
              "      display:flex;\n",
              "      gap: 12px;\n",
              "    }\n",
              "\n",
              "    .colab-df-convert {\n",
              "      background-color: #E8F0FE;\n",
              "      border: none;\n",
              "      border-radius: 50%;\n",
              "      cursor: pointer;\n",
              "      display: none;\n",
              "      fill: #1967D2;\n",
              "      height: 32px;\n",
              "      padding: 0 0 0 0;\n",
              "      width: 32px;\n",
              "    }\n",
              "\n",
              "    .colab-df-convert:hover {\n",
              "      background-color: #E2EBFA;\n",
              "      box-shadow: 0px 1px 2px rgba(60, 64, 67, 0.3), 0px 1px 3px 1px rgba(60, 64, 67, 0.15);\n",
              "      fill: #174EA6;\n",
              "    }\n",
              "\n",
              "    .colab-df-buttons div {\n",
              "      margin-bottom: 4px;\n",
              "    }\n",
              "\n",
              "    [theme=dark] .colab-df-convert {\n",
              "      background-color: #3B4455;\n",
              "      fill: #D2E3FC;\n",
              "    }\n",
              "\n",
              "    [theme=dark] .colab-df-convert:hover {\n",
              "      background-color: #434B5C;\n",
              "      box-shadow: 0px 1px 3px 1px rgba(0, 0, 0, 0.15);\n",
              "      filter: drop-shadow(0px 1px 2px rgba(0, 0, 0, 0.3));\n",
              "      fill: #FFFFFF;\n",
              "    }\n",
              "  </style>\n",
              "\n",
              "    <script>\n",
              "      const buttonEl =\n",
              "        document.querySelector('#df-087e46ba-7c8c-48b2-952c-a2ecd135f5d0 button.colab-df-convert');\n",
              "      buttonEl.style.display =\n",
              "        google.colab.kernel.accessAllowed ? 'block' : 'none';\n",
              "\n",
              "      async function convertToInteractive(key) {\n",
              "        const element = document.querySelector('#df-087e46ba-7c8c-48b2-952c-a2ecd135f5d0');\n",
              "        const dataTable =\n",
              "          await google.colab.kernel.invokeFunction('convertToInteractive',\n",
              "                                                    [key], {});\n",
              "        if (!dataTable) return;\n",
              "\n",
              "        const docLinkHtml = 'Like what you see? Visit the ' +\n",
              "          '<a target=\"_blank\" href=https://colab.research.google.com/notebooks/data_table.ipynb>data table notebook</a>'\n",
              "          + ' to learn more about interactive tables.';\n",
              "        element.innerHTML = '';\n",
              "        dataTable['output_type'] = 'display_data';\n",
              "        await google.colab.output.renderOutput(dataTable, element);\n",
              "        const docLink = document.createElement('div');\n",
              "        docLink.innerHTML = docLinkHtml;\n",
              "        element.appendChild(docLink);\n",
              "      }\n",
              "    </script>\n",
              "  </div>\n",
              "\n",
              "\n",
              "<div id=\"df-9b28ec22-874c-40eb-9209-4e10aaa72548\">\n",
              "  <button class=\"colab-df-quickchart\" onclick=\"quickchart('df-9b28ec22-874c-40eb-9209-4e10aaa72548')\"\n",
              "            title=\"Suggest charts\"\n",
              "            style=\"display:none;\">\n",
              "\n",
              "<svg xmlns=\"http://www.w3.org/2000/svg\" height=\"24px\"viewBox=\"0 0 24 24\"\n",
              "     width=\"24px\">\n",
              "    <g>\n",
              "        <path d=\"M19 3H5c-1.1 0-2 .9-2 2v14c0 1.1.9 2 2 2h14c1.1 0 2-.9 2-2V5c0-1.1-.9-2-2-2zM9 17H7v-7h2v7zm4 0h-2V7h2v10zm4 0h-2v-4h2v4z\"/>\n",
              "    </g>\n",
              "</svg>\n",
              "  </button>\n",
              "\n",
              "<style>\n",
              "  .colab-df-quickchart {\n",
              "      --bg-color: #E8F0FE;\n",
              "      --fill-color: #1967D2;\n",
              "      --hover-bg-color: #E2EBFA;\n",
              "      --hover-fill-color: #174EA6;\n",
              "      --disabled-fill-color: #AAA;\n",
              "      --disabled-bg-color: #DDD;\n",
              "  }\n",
              "\n",
              "  [theme=dark] .colab-df-quickchart {\n",
              "      --bg-color: #3B4455;\n",
              "      --fill-color: #D2E3FC;\n",
              "      --hover-bg-color: #434B5C;\n",
              "      --hover-fill-color: #FFFFFF;\n",
              "      --disabled-bg-color: #3B4455;\n",
              "      --disabled-fill-color: #666;\n",
              "  }\n",
              "\n",
              "  .colab-df-quickchart {\n",
              "    background-color: var(--bg-color);\n",
              "    border: none;\n",
              "    border-radius: 50%;\n",
              "    cursor: pointer;\n",
              "    display: none;\n",
              "    fill: var(--fill-color);\n",
              "    height: 32px;\n",
              "    padding: 0;\n",
              "    width: 32px;\n",
              "  }\n",
              "\n",
              "  .colab-df-quickchart:hover {\n",
              "    background-color: var(--hover-bg-color);\n",
              "    box-shadow: 0 1px 2px rgba(60, 64, 67, 0.3), 0 1px 3px 1px rgba(60, 64, 67, 0.15);\n",
              "    fill: var(--button-hover-fill-color);\n",
              "  }\n",
              "\n",
              "  .colab-df-quickchart-complete:disabled,\n",
              "  .colab-df-quickchart-complete:disabled:hover {\n",
              "    background-color: var(--disabled-bg-color);\n",
              "    fill: var(--disabled-fill-color);\n",
              "    box-shadow: none;\n",
              "  }\n",
              "\n",
              "  .colab-df-spinner {\n",
              "    border: 2px solid var(--fill-color);\n",
              "    border-color: transparent;\n",
              "    border-bottom-color: var(--fill-color);\n",
              "    animation:\n",
              "      spin 1s steps(1) infinite;\n",
              "  }\n",
              "\n",
              "  @keyframes spin {\n",
              "    0% {\n",
              "      border-color: transparent;\n",
              "      border-bottom-color: var(--fill-color);\n",
              "      border-left-color: var(--fill-color);\n",
              "    }\n",
              "    20% {\n",
              "      border-color: transparent;\n",
              "      border-left-color: var(--fill-color);\n",
              "      border-top-color: var(--fill-color);\n",
              "    }\n",
              "    30% {\n",
              "      border-color: transparent;\n",
              "      border-left-color: var(--fill-color);\n",
              "      border-top-color: var(--fill-color);\n",
              "      border-right-color: var(--fill-color);\n",
              "    }\n",
              "    40% {\n",
              "      border-color: transparent;\n",
              "      border-right-color: var(--fill-color);\n",
              "      border-top-color: var(--fill-color);\n",
              "    }\n",
              "    60% {\n",
              "      border-color: transparent;\n",
              "      border-right-color: var(--fill-color);\n",
              "    }\n",
              "    80% {\n",
              "      border-color: transparent;\n",
              "      border-right-color: var(--fill-color);\n",
              "      border-bottom-color: var(--fill-color);\n",
              "    }\n",
              "    90% {\n",
              "      border-color: transparent;\n",
              "      border-bottom-color: var(--fill-color);\n",
              "    }\n",
              "  }\n",
              "</style>\n",
              "\n",
              "  <script>\n",
              "    async function quickchart(key) {\n",
              "      const quickchartButtonEl =\n",
              "        document.querySelector('#' + key + ' button');\n",
              "      quickchartButtonEl.disabled = true;  // To prevent multiple clicks.\n",
              "      quickchartButtonEl.classList.add('colab-df-spinner');\n",
              "      try {\n",
              "        const charts = await google.colab.kernel.invokeFunction(\n",
              "            'suggestCharts', [key], {});\n",
              "      } catch (error) {\n",
              "        console.error('Error during call to suggestCharts:', error);\n",
              "      }\n",
              "      quickchartButtonEl.classList.remove('colab-df-spinner');\n",
              "      quickchartButtonEl.classList.add('colab-df-quickchart-complete');\n",
              "    }\n",
              "    (() => {\n",
              "      let quickchartButtonEl =\n",
              "        document.querySelector('#df-9b28ec22-874c-40eb-9209-4e10aaa72548 button');\n",
              "      quickchartButtonEl.style.display =\n",
              "        google.colab.kernel.accessAllowed ? 'block' : 'none';\n",
              "    })();\n",
              "  </script>\n",
              "</div>\n",
              "\n",
              "  <div id=\"id_4e3576fd-cacc-4cb1-adbf-6aadfed5dca0\">\n",
              "    <style>\n",
              "      .colab-df-generate {\n",
              "        background-color: #E8F0FE;\n",
              "        border: none;\n",
              "        border-radius: 50%;\n",
              "        cursor: pointer;\n",
              "        display: none;\n",
              "        fill: #1967D2;\n",
              "        height: 32px;\n",
              "        padding: 0 0 0 0;\n",
              "        width: 32px;\n",
              "      }\n",
              "\n",
              "      .colab-df-generate:hover {\n",
              "        background-color: #E2EBFA;\n",
              "        box-shadow: 0px 1px 2px rgba(60, 64, 67, 0.3), 0px 1px 3px 1px rgba(60, 64, 67, 0.15);\n",
              "        fill: #174EA6;\n",
              "      }\n",
              "\n",
              "      [theme=dark] .colab-df-generate {\n",
              "        background-color: #3B4455;\n",
              "        fill: #D2E3FC;\n",
              "      }\n",
              "\n",
              "      [theme=dark] .colab-df-generate:hover {\n",
              "        background-color: #434B5C;\n",
              "        box-shadow: 0px 1px 3px 1px rgba(0, 0, 0, 0.15);\n",
              "        filter: drop-shadow(0px 1px 2px rgba(0, 0, 0, 0.3));\n",
              "        fill: #FFFFFF;\n",
              "      }\n",
              "    </style>\n",
              "    <button class=\"colab-df-generate\" onclick=\"generateWithVariable('data')\"\n",
              "            title=\"Generate code using this dataframe.\"\n",
              "            style=\"display:none;\">\n",
              "\n",
              "  <svg xmlns=\"http://www.w3.org/2000/svg\" height=\"24px\"viewBox=\"0 0 24 24\"\n",
              "       width=\"24px\">\n",
              "    <path d=\"M7,19H8.4L18.45,9,17,7.55,7,17.6ZM5,21V16.75L18.45,3.32a2,2,0,0,1,2.83,0l1.4,1.43a1.91,1.91,0,0,1,.58,1.4,1.91,1.91,0,0,1-.58,1.4L9.25,21ZM18.45,9,17,7.55Zm-12,3A5.31,5.31,0,0,0,4.9,8.1,5.31,5.31,0,0,0,1,6.5,5.31,5.31,0,0,0,4.9,4.9,5.31,5.31,0,0,0,6.5,1,5.31,5.31,0,0,0,8.1,4.9,5.31,5.31,0,0,0,12,6.5,5.46,5.46,0,0,0,6.5,12Z\"/>\n",
              "  </svg>\n",
              "    </button>\n",
              "    <script>\n",
              "      (() => {\n",
              "      const buttonEl =\n",
              "        document.querySelector('#id_4e3576fd-cacc-4cb1-adbf-6aadfed5dca0 button.colab-df-generate');\n",
              "      buttonEl.style.display =\n",
              "        google.colab.kernel.accessAllowed ? 'block' : 'none';\n",
              "\n",
              "      buttonEl.onclick = () => {\n",
              "        google.colab.notebook.generateWithVariable('data');\n",
              "      }\n",
              "      })();\n",
              "    </script>\n",
              "  </div>\n",
              "\n",
              "    </div>\n",
              "  </div>\n"
            ]
          },
          "metadata": {},
          "execution_count": 17
        }
      ]
    },
    {
      "cell_type": "code",
      "execution_count": null,
      "metadata": {
        "id": "f920f4a2"
      },
      "outputs": [],
      "source": [
        "from math import ceil\n",
        "train = data.iloc[:ceil(length*percent_data),0]\n",
        "test = data.iloc[ceil(length*percent_data)-timestamp:,0]"
      ],
      "id": "f920f4a2"
    },
    {
      "cell_type": "code",
      "source": [
        "train = pd.DataFrame(train,columns=['close '])\n",
        "test = pd.DataFrame(test,columns=['close '])"
      ],
      "metadata": {
        "id": "bSeuFqmgp-YP"
      },
      "id": "bSeuFqmgp-YP",
      "execution_count": null,
      "outputs": []
    },
    {
      "cell_type": "code",
      "execution_count": null,
      "metadata": {
        "colab": {
          "base_uri": "https://localhost:8080/",
          "height": 237
        },
        "id": "b6d1cdb1",
        "outputId": "337c1061-572f-46c6-8a5f-d3f0062600cf"
      },
      "outputs": [
        {
          "output_type": "execute_result",
          "data": {
            "text/plain": [
              "             close \n",
              "Date               \n",
              "13-Nov-2023  934.45\n",
              "12-Nov-2023  942.35\n",
              "10-Nov-2023  938.60\n",
              "09-Nov-2023  937.35\n",
              "08-Nov-2023  935.75"
            ],
            "text/html": [
              "\n",
              "  <div id=\"df-6550425d-eb3b-45fc-9e65-92e6bd1d73f2\" class=\"colab-df-container\">\n",
              "    <div>\n",
              "<style scoped>\n",
              "    .dataframe tbody tr th:only-of-type {\n",
              "        vertical-align: middle;\n",
              "    }\n",
              "\n",
              "    .dataframe tbody tr th {\n",
              "        vertical-align: top;\n",
              "    }\n",
              "\n",
              "    .dataframe thead th {\n",
              "        text-align: right;\n",
              "    }\n",
              "</style>\n",
              "<table border=\"1\" class=\"dataframe\">\n",
              "  <thead>\n",
              "    <tr style=\"text-align: right;\">\n",
              "      <th></th>\n",
              "      <th>close</th>\n",
              "    </tr>\n",
              "    <tr>\n",
              "      <th>Date</th>\n",
              "      <th></th>\n",
              "    </tr>\n",
              "  </thead>\n",
              "  <tbody>\n",
              "    <tr>\n",
              "      <th>13-Nov-2023</th>\n",
              "      <td>934.45</td>\n",
              "    </tr>\n",
              "    <tr>\n",
              "      <th>12-Nov-2023</th>\n",
              "      <td>942.35</td>\n",
              "    </tr>\n",
              "    <tr>\n",
              "      <th>10-Nov-2023</th>\n",
              "      <td>938.60</td>\n",
              "    </tr>\n",
              "    <tr>\n",
              "      <th>09-Nov-2023</th>\n",
              "      <td>937.35</td>\n",
              "    </tr>\n",
              "    <tr>\n",
              "      <th>08-Nov-2023</th>\n",
              "      <td>935.75</td>\n",
              "    </tr>\n",
              "  </tbody>\n",
              "</table>\n",
              "</div>\n",
              "    <div class=\"colab-df-buttons\">\n",
              "\n",
              "  <div class=\"colab-df-container\">\n",
              "    <button class=\"colab-df-convert\" onclick=\"convertToInteractive('df-6550425d-eb3b-45fc-9e65-92e6bd1d73f2')\"\n",
              "            title=\"Convert this dataframe to an interactive table.\"\n",
              "            style=\"display:none;\">\n",
              "\n",
              "  <svg xmlns=\"http://www.w3.org/2000/svg\" height=\"24px\" viewBox=\"0 -960 960 960\">\n",
              "    <path d=\"M120-120v-720h720v720H120Zm60-500h600v-160H180v160Zm220 220h160v-160H400v160Zm0 220h160v-160H400v160ZM180-400h160v-160H180v160Zm440 0h160v-160H620v160ZM180-180h160v-160H180v160Zm440 0h160v-160H620v160Z\"/>\n",
              "  </svg>\n",
              "    </button>\n",
              "\n",
              "  <style>\n",
              "    .colab-df-container {\n",
              "      display:flex;\n",
              "      gap: 12px;\n",
              "    }\n",
              "\n",
              "    .colab-df-convert {\n",
              "      background-color: #E8F0FE;\n",
              "      border: none;\n",
              "      border-radius: 50%;\n",
              "      cursor: pointer;\n",
              "      display: none;\n",
              "      fill: #1967D2;\n",
              "      height: 32px;\n",
              "      padding: 0 0 0 0;\n",
              "      width: 32px;\n",
              "    }\n",
              "\n",
              "    .colab-df-convert:hover {\n",
              "      background-color: #E2EBFA;\n",
              "      box-shadow: 0px 1px 2px rgba(60, 64, 67, 0.3), 0px 1px 3px 1px rgba(60, 64, 67, 0.15);\n",
              "      fill: #174EA6;\n",
              "    }\n",
              "\n",
              "    .colab-df-buttons div {\n",
              "      margin-bottom: 4px;\n",
              "    }\n",
              "\n",
              "    [theme=dark] .colab-df-convert {\n",
              "      background-color: #3B4455;\n",
              "      fill: #D2E3FC;\n",
              "    }\n",
              "\n",
              "    [theme=dark] .colab-df-convert:hover {\n",
              "      background-color: #434B5C;\n",
              "      box-shadow: 0px 1px 3px 1px rgba(0, 0, 0, 0.15);\n",
              "      filter: drop-shadow(0px 1px 2px rgba(0, 0, 0, 0.3));\n",
              "      fill: #FFFFFF;\n",
              "    }\n",
              "  </style>\n",
              "\n",
              "    <script>\n",
              "      const buttonEl =\n",
              "        document.querySelector('#df-6550425d-eb3b-45fc-9e65-92e6bd1d73f2 button.colab-df-convert');\n",
              "      buttonEl.style.display =\n",
              "        google.colab.kernel.accessAllowed ? 'block' : 'none';\n",
              "\n",
              "      async function convertToInteractive(key) {\n",
              "        const element = document.querySelector('#df-6550425d-eb3b-45fc-9e65-92e6bd1d73f2');\n",
              "        const dataTable =\n",
              "          await google.colab.kernel.invokeFunction('convertToInteractive',\n",
              "                                                    [key], {});\n",
              "        if (!dataTable) return;\n",
              "\n",
              "        const docLinkHtml = 'Like what you see? Visit the ' +\n",
              "          '<a target=\"_blank\" href=https://colab.research.google.com/notebooks/data_table.ipynb>data table notebook</a>'\n",
              "          + ' to learn more about interactive tables.';\n",
              "        element.innerHTML = '';\n",
              "        dataTable['output_type'] = 'display_data';\n",
              "        await google.colab.output.renderOutput(dataTable, element);\n",
              "        const docLink = document.createElement('div');\n",
              "        docLink.innerHTML = docLinkHtml;\n",
              "        element.appendChild(docLink);\n",
              "      }\n",
              "    </script>\n",
              "  </div>\n",
              "\n",
              "\n",
              "<div id=\"df-c7459940-c1a0-42b4-bcd5-213c23274f63\">\n",
              "  <button class=\"colab-df-quickchart\" onclick=\"quickchart('df-c7459940-c1a0-42b4-bcd5-213c23274f63')\"\n",
              "            title=\"Suggest charts\"\n",
              "            style=\"display:none;\">\n",
              "\n",
              "<svg xmlns=\"http://www.w3.org/2000/svg\" height=\"24px\"viewBox=\"0 0 24 24\"\n",
              "     width=\"24px\">\n",
              "    <g>\n",
              "        <path d=\"M19 3H5c-1.1 0-2 .9-2 2v14c0 1.1.9 2 2 2h14c1.1 0 2-.9 2-2V5c0-1.1-.9-2-2-2zM9 17H7v-7h2v7zm4 0h-2V7h2v10zm4 0h-2v-4h2v4z\"/>\n",
              "    </g>\n",
              "</svg>\n",
              "  </button>\n",
              "\n",
              "<style>\n",
              "  .colab-df-quickchart {\n",
              "      --bg-color: #E8F0FE;\n",
              "      --fill-color: #1967D2;\n",
              "      --hover-bg-color: #E2EBFA;\n",
              "      --hover-fill-color: #174EA6;\n",
              "      --disabled-fill-color: #AAA;\n",
              "      --disabled-bg-color: #DDD;\n",
              "  }\n",
              "\n",
              "  [theme=dark] .colab-df-quickchart {\n",
              "      --bg-color: #3B4455;\n",
              "      --fill-color: #D2E3FC;\n",
              "      --hover-bg-color: #434B5C;\n",
              "      --hover-fill-color: #FFFFFF;\n",
              "      --disabled-bg-color: #3B4455;\n",
              "      --disabled-fill-color: #666;\n",
              "  }\n",
              "\n",
              "  .colab-df-quickchart {\n",
              "    background-color: var(--bg-color);\n",
              "    border: none;\n",
              "    border-radius: 50%;\n",
              "    cursor: pointer;\n",
              "    display: none;\n",
              "    fill: var(--fill-color);\n",
              "    height: 32px;\n",
              "    padding: 0;\n",
              "    width: 32px;\n",
              "  }\n",
              "\n",
              "  .colab-df-quickchart:hover {\n",
              "    background-color: var(--hover-bg-color);\n",
              "    box-shadow: 0 1px 2px rgba(60, 64, 67, 0.3), 0 1px 3px 1px rgba(60, 64, 67, 0.15);\n",
              "    fill: var(--button-hover-fill-color);\n",
              "  }\n",
              "\n",
              "  .colab-df-quickchart-complete:disabled,\n",
              "  .colab-df-quickchart-complete:disabled:hover {\n",
              "    background-color: var(--disabled-bg-color);\n",
              "    fill: var(--disabled-fill-color);\n",
              "    box-shadow: none;\n",
              "  }\n",
              "\n",
              "  .colab-df-spinner {\n",
              "    border: 2px solid var(--fill-color);\n",
              "    border-color: transparent;\n",
              "    border-bottom-color: var(--fill-color);\n",
              "    animation:\n",
              "      spin 1s steps(1) infinite;\n",
              "  }\n",
              "\n",
              "  @keyframes spin {\n",
              "    0% {\n",
              "      border-color: transparent;\n",
              "      border-bottom-color: var(--fill-color);\n",
              "      border-left-color: var(--fill-color);\n",
              "    }\n",
              "    20% {\n",
              "      border-color: transparent;\n",
              "      border-left-color: var(--fill-color);\n",
              "      border-top-color: var(--fill-color);\n",
              "    }\n",
              "    30% {\n",
              "      border-color: transparent;\n",
              "      border-left-color: var(--fill-color);\n",
              "      border-top-color: var(--fill-color);\n",
              "      border-right-color: var(--fill-color);\n",
              "    }\n",
              "    40% {\n",
              "      border-color: transparent;\n",
              "      border-right-color: var(--fill-color);\n",
              "      border-top-color: var(--fill-color);\n",
              "    }\n",
              "    60% {\n",
              "      border-color: transparent;\n",
              "      border-right-color: var(--fill-color);\n",
              "    }\n",
              "    80% {\n",
              "      border-color: transparent;\n",
              "      border-right-color: var(--fill-color);\n",
              "      border-bottom-color: var(--fill-color);\n",
              "    }\n",
              "    90% {\n",
              "      border-color: transparent;\n",
              "      border-bottom-color: var(--fill-color);\n",
              "    }\n",
              "  }\n",
              "</style>\n",
              "\n",
              "  <script>\n",
              "    async function quickchart(key) {\n",
              "      const quickchartButtonEl =\n",
              "        document.querySelector('#' + key + ' button');\n",
              "      quickchartButtonEl.disabled = true;  // To prevent multiple clicks.\n",
              "      quickchartButtonEl.classList.add('colab-df-spinner');\n",
              "      try {\n",
              "        const charts = await google.colab.kernel.invokeFunction(\n",
              "            'suggestCharts', [key], {});\n",
              "      } catch (error) {\n",
              "        console.error('Error during call to suggestCharts:', error);\n",
              "      }\n",
              "      quickchartButtonEl.classList.remove('colab-df-spinner');\n",
              "      quickchartButtonEl.classList.add('colab-df-quickchart-complete');\n",
              "    }\n",
              "    (() => {\n",
              "      let quickchartButtonEl =\n",
              "        document.querySelector('#df-c7459940-c1a0-42b4-bcd5-213c23274f63 button');\n",
              "      quickchartButtonEl.style.display =\n",
              "        google.colab.kernel.accessAllowed ? 'block' : 'none';\n",
              "    })();\n",
              "  </script>\n",
              "</div>\n",
              "\n",
              "    </div>\n",
              "  </div>\n"
            ]
          },
          "metadata": {},
          "execution_count": 20
        }
      ],
      "source": [
        "train.head()"
      ],
      "id": "b6d1cdb1"
    },
    {
      "cell_type": "code",
      "execution_count": null,
      "metadata": {
        "colab": {
          "base_uri": "https://localhost:8080/",
          "height": 74
        },
        "id": "0dc802e8",
        "outputId": "970ed0b4-ad09-418f-e371-cede04d7aa35"
      },
      "outputs": [
        {
          "output_type": "execute_result",
          "data": {
            "text/plain": [
              "MinMaxScaler()"
            ],
            "text/html": [
              "<style>#sk-container-id-1 {color: black;background-color: white;}#sk-container-id-1 pre{padding: 0;}#sk-container-id-1 div.sk-toggleable {background-color: white;}#sk-container-id-1 label.sk-toggleable__label {cursor: pointer;display: block;width: 100%;margin-bottom: 0;padding: 0.3em;box-sizing: border-box;text-align: center;}#sk-container-id-1 label.sk-toggleable__label-arrow:before {content: \"▸\";float: left;margin-right: 0.25em;color: #696969;}#sk-container-id-1 label.sk-toggleable__label-arrow:hover:before {color: black;}#sk-container-id-1 div.sk-estimator:hover label.sk-toggleable__label-arrow:before {color: black;}#sk-container-id-1 div.sk-toggleable__content {max-height: 0;max-width: 0;overflow: hidden;text-align: left;background-color: #f0f8ff;}#sk-container-id-1 div.sk-toggleable__content pre {margin: 0.2em;color: black;border-radius: 0.25em;background-color: #f0f8ff;}#sk-container-id-1 input.sk-toggleable__control:checked~div.sk-toggleable__content {max-height: 200px;max-width: 100%;overflow: auto;}#sk-container-id-1 input.sk-toggleable__control:checked~label.sk-toggleable__label-arrow:before {content: \"▾\";}#sk-container-id-1 div.sk-estimator input.sk-toggleable__control:checked~label.sk-toggleable__label {background-color: #d4ebff;}#sk-container-id-1 div.sk-label input.sk-toggleable__control:checked~label.sk-toggleable__label {background-color: #d4ebff;}#sk-container-id-1 input.sk-hidden--visually {border: 0;clip: rect(1px 1px 1px 1px);clip: rect(1px, 1px, 1px, 1px);height: 1px;margin: -1px;overflow: hidden;padding: 0;position: absolute;width: 1px;}#sk-container-id-1 div.sk-estimator {font-family: monospace;background-color: #f0f8ff;border: 1px dotted black;border-radius: 0.25em;box-sizing: border-box;margin-bottom: 0.5em;}#sk-container-id-1 div.sk-estimator:hover {background-color: #d4ebff;}#sk-container-id-1 div.sk-parallel-item::after {content: \"\";width: 100%;border-bottom: 1px solid gray;flex-grow: 1;}#sk-container-id-1 div.sk-label:hover label.sk-toggleable__label {background-color: #d4ebff;}#sk-container-id-1 div.sk-serial::before {content: \"\";position: absolute;border-left: 1px solid gray;box-sizing: border-box;top: 0;bottom: 0;left: 50%;z-index: 0;}#sk-container-id-1 div.sk-serial {display: flex;flex-direction: column;align-items: center;background-color: white;padding-right: 0.2em;padding-left: 0.2em;position: relative;}#sk-container-id-1 div.sk-item {position: relative;z-index: 1;}#sk-container-id-1 div.sk-parallel {display: flex;align-items: stretch;justify-content: center;background-color: white;position: relative;}#sk-container-id-1 div.sk-item::before, #sk-container-id-1 div.sk-parallel-item::before {content: \"\";position: absolute;border-left: 1px solid gray;box-sizing: border-box;top: 0;bottom: 0;left: 50%;z-index: -1;}#sk-container-id-1 div.sk-parallel-item {display: flex;flex-direction: column;z-index: 1;position: relative;background-color: white;}#sk-container-id-1 div.sk-parallel-item:first-child::after {align-self: flex-end;width: 50%;}#sk-container-id-1 div.sk-parallel-item:last-child::after {align-self: flex-start;width: 50%;}#sk-container-id-1 div.sk-parallel-item:only-child::after {width: 0;}#sk-container-id-1 div.sk-dashed-wrapped {border: 1px dashed gray;margin: 0 0.4em 0.5em 0.4em;box-sizing: border-box;padding-bottom: 0.4em;background-color: white;}#sk-container-id-1 div.sk-label label {font-family: monospace;font-weight: bold;display: inline-block;line-height: 1.2em;}#sk-container-id-1 div.sk-label-container {text-align: center;}#sk-container-id-1 div.sk-container {/* jupyter's `normalize.less` sets `[hidden] { display: none; }` but bootstrap.min.css set `[hidden] { display: none !important; }` so we also need the `!important` here to be able to override the default hidden behavior on the sphinx rendered scikit-learn.org. See: https://github.com/scikit-learn/scikit-learn/issues/21755 */display: inline-block !important;position: relative;}#sk-container-id-1 div.sk-text-repr-fallback {display: none;}</style><div id=\"sk-container-id-1\" class=\"sk-top-container\"><div class=\"sk-text-repr-fallback\"><pre>MinMaxScaler()</pre><b>In a Jupyter environment, please rerun this cell to show the HTML representation or trust the notebook. <br />On GitHub, the HTML representation is unable to render, please try loading this page with nbviewer.org.</b></div><div class=\"sk-container\" hidden><div class=\"sk-item\"><div class=\"sk-estimator sk-toggleable\"><input class=\"sk-toggleable__control sk-hidden--visually\" id=\"sk-estimator-id-1\" type=\"checkbox\" checked><label for=\"sk-estimator-id-1\" class=\"sk-toggleable__label sk-toggleable__label-arrow\">MinMaxScaler</label><div class=\"sk-toggleable__content\"><pre>MinMaxScaler()</pre></div></div></div></div></div>"
            ]
          },
          "metadata": {},
          "execution_count": 21
        }
      ],
      "source": [
        "scaler.fit(train)"
      ],
      "id": "0dc802e8"
    },
    {
      "cell_type": "code",
      "execution_count": null,
      "metadata": {
        "id": "30b750ae"
      },
      "outputs": [],
      "source": [
        "scaled_train = scaler.transform(train)\n",
        "scaled_test = scaler.transform(test)"
      ],
      "id": "30b750ae"
    },
    {
      "cell_type": "code",
      "source": [
        "scaled_train"
      ],
      "metadata": {
        "colab": {
          "base_uri": "https://localhost:8080/"
        },
        "id": "Ac20qTdRqJI2",
        "outputId": "654ba0af-b8e5-4964-ea55-96b8a0b9236f"
      },
      "id": "Ac20qTdRqJI2",
      "execution_count": null,
      "outputs": [
        {
          "output_type": "execute_result",
          "data": {
            "text/plain": [
              "array([[0.64743236],\n",
              "       [0.69105467],\n",
              "       [0.67034787],\n",
              "       [0.66344561],\n",
              "       [0.65461071],\n",
              "       [0.72280508],\n",
              "       [0.70817228],\n",
              "       [0.64384318],\n",
              "       [0.5673661 ],\n",
              "       [0.53478741],\n",
              "       [0.54196576],\n",
              "       [0.59469906],\n",
              "       [0.52760906],\n",
              "       [0.50496963],\n",
              "       [0.54610712],\n",
              "       [0.62258421],\n",
              "       [0.63804528],\n",
              "       [0.65461071],\n",
              "       [0.6987852 ],\n",
              "       [0.75483158],\n",
              "       [0.74102706],\n",
              "       [0.74047488],\n",
              "       [0.75676422],\n",
              "       [0.75041414],\n",
              "       [0.73992269],\n",
              "       [0.67034787],\n",
              "       [0.70679183],\n",
              "       [0.68277195],\n",
              "       [0.62313639],\n",
              "       [0.67973495],\n",
              "       [0.74378796],\n",
              "       [0.69243512],\n",
              "       [0.69519602],\n",
              "       [0.72611817],\n",
              "       [0.76836002],\n",
              "       [0.73495306],\n",
              "       [0.78464936],\n",
              "       [0.93843181],\n",
              "       [0.95527333],\n",
              "       [0.9676974 ],\n",
              "       [0.9414688 ],\n",
              "       [0.95306461],\n",
              "       [0.95692987],\n",
              "       [0.88928769],\n",
              "       [0.84676974],\n",
              "       [0.81971287],\n",
              "       [0.7747101 ],\n",
              "       [0.83489785],\n",
              "       [0.82909994],\n",
              "       [0.83655439],\n",
              "       [0.78161237],\n",
              "       [0.78244064],\n",
              "       [0.83130867],\n",
              "       [0.84676974],\n",
              "       [0.84594147],\n",
              "       [0.83793484],\n",
              "       [0.82633904],\n",
              "       [0.74434014],\n",
              "       [0.76200994],\n",
              "       [0.7368857 ],\n",
              "       [0.74240751],\n",
              "       [0.76918829],\n",
              "       [0.78602982],\n",
              "       [0.74903368],\n",
              "       [0.81115406],\n",
              "       [0.85864163],\n",
              "       [0.89839867],\n",
              "       [0.87493098],\n",
              "       [0.84649365],\n",
              "       [0.81612369],\n",
              "       [0.93732744],\n",
              "       [0.97929321],\n",
              "       [1.        ],\n",
              "       [0.9884042 ],\n",
              "       [0.95554942],\n",
              "       [0.98978465],\n",
              "       [0.98012148],\n",
              "       [0.96521259],\n",
              "       [0.99282165],\n",
              "       [0.98509111],\n",
              "       [0.86278299],\n",
              "       [0.87382662],\n",
              "       [0.83655439],\n",
              "       [0.78879072],\n",
              "       [0.76477084],\n",
              "       [0.70237438],\n",
              "       [0.70541137],\n",
              "       [0.72446162],\n",
              "       [0.713418  ],\n",
              "       [0.78520155],\n",
              "       [0.77747101],\n",
              "       [0.70403092],\n",
              "       [0.69215903],\n",
              "       [0.64826063],\n",
              "       [0.66399779],\n",
              "       [0.65654335],\n",
              "       [0.60877968],\n",
              "       [0.58696853],\n",
              "       [0.5993926 ],\n",
              "       [0.5935947 ],\n",
              "       [0.59828824],\n",
              "       [0.58503589],\n",
              "       [0.64605191],\n",
              "       [0.60408614],\n",
              "       [0.67697405],\n",
              "       [0.69768084],\n",
              "       [0.65571507],\n",
              "       [0.66731088],\n",
              "       [0.66648261],\n",
              "       [0.67918277],\n",
              "       [0.68967421],\n",
              "       [0.71535064],\n",
              "       [0.66786306],\n",
              "       [0.65654335],\n",
              "       [0.72860298],\n",
              "       [0.73302043],\n",
              "       [0.72308117],\n",
              "       [0.73716179],\n",
              "       [0.67725014],\n",
              "       [0.68166759],\n",
              "       [0.75207068],\n",
              "       [0.73522916],\n",
              "       [0.75704031],\n",
              "       [0.71397018],\n",
              "       [0.67448923],\n",
              "       [0.71314191],\n",
              "       [0.70982882],\n",
              "       [0.69961347],\n",
              "       [0.67366096],\n",
              "       [0.65626726],\n",
              "       [0.64715627],\n",
              "       [0.66648261],\n",
              "       [0.60601877],\n",
              "       [0.57702927],\n",
              "       [0.58337935],\n",
              "       [0.57923799],\n",
              "       [0.55466593],\n",
              "       [0.5585312 ],\n",
              "       [0.53975704],\n",
              "       [0.53147432],\n",
              "       [0.48343457],\n",
              "       [0.37796797],\n",
              "       [0.42628382],\n",
              "       [0.41247929],\n",
              "       [0.43981226],\n",
              "       [0.46438432],\n",
              "       [0.45168415],\n",
              "       [0.40281612],\n",
              "       [0.35726118],\n",
              "       [0.28299282],\n",
              "       [0.31916068],\n",
              "       [0.37217007],\n",
              "       [0.36775262],\n",
              "       [0.33158476],\n",
              "       [0.18663722],\n",
              "       [0.20734401],\n",
              "       [0.17393705],\n",
              "       [0.19436775],\n",
              "       [0.21120928],\n",
              "       [0.23743788],\n",
              "       [0.19436775],\n",
              "       [0.10629486],\n",
              "       [0.1051905 ],\n",
              "       [0.03699613],\n",
              "       [0.04803976],\n",
              "       [0.07261182],\n",
              "       [0.06184428],\n",
              "       [0.14053009],\n",
              "       [0.21397018],\n",
              "       [0.30314743],\n",
              "       [0.27912755],\n",
              "       [0.283545  ],\n",
              "       [0.20320265],\n",
              "       [0.21590282],\n",
              "       [0.20789619],\n",
              "       [0.216455  ],\n",
              "       [0.12424075],\n",
              "       [0.12451684],\n",
              "       [0.12175594],\n",
              "       [0.20430701],\n",
              "       [0.19271121],\n",
              "       [0.25096632],\n",
              "       [0.28851463],\n",
              "       [0.29596908],\n",
              "       [0.26559912],\n",
              "       [0.18470458],\n",
              "       [0.20237438],\n",
              "       [0.24075097],\n",
              "       [0.23136389],\n",
              "       [0.19630039],\n",
              "       [0.20154611],\n",
              "       [0.2573164 ],\n",
              "       [0.22473771],\n",
              "       [0.16979569],\n",
              "       [0.08117062],\n",
              "       [0.03478741],\n",
              "       [0.        ],\n",
              "       [0.210381  ],\n",
              "       [0.29569299],\n",
              "       [0.30093871],\n",
              "       [0.29348426],\n",
              "       [0.27029266],\n",
              "       [0.28879072],\n",
              "       [0.26477084],\n",
              "       [0.26532303],\n",
              "       [0.31060188],\n",
              "       [0.23992269],\n",
              "       [0.27112093],\n",
              "       [0.24378796],\n",
              "       [0.3100497 ],\n",
              "       [0.29210381],\n",
              "       [0.3420762 ],\n",
              "       [0.45223633]])"
            ]
          },
          "metadata": {},
          "execution_count": 23
        }
      ]
    },
    {
      "cell_type": "code",
      "execution_count": null,
      "metadata": {
        "colab": {
          "base_uri": "https://localhost:8080/"
        },
        "id": "bc085e1b",
        "outputId": "736490a7-952a-42b1-9daa-3a16798d1482"
      },
      "outputs": [
        {
          "output_type": "execute_result",
          "data": {
            "text/plain": [
              "213"
            ]
          },
          "metadata": {},
          "execution_count": 24
        }
      ],
      "source": [
        "train_length = scaled_train.size\n",
        "val_percent = 0.10\n",
        "train_data = scaled_train[:ceil(train_length*(1-val_percent))]\n",
        "val_data = scaled_train[ceil(train_length*(1-val_percent))-timestamp:]\n",
        "train_length"
      ],
      "id": "bc085e1b"
    },
    {
      "cell_type": "code",
      "source": [
        "def GenerateTimeSeries(dataset, timestamp, dataset_length):\n",
        "  X = []\n",
        "  Y = []\n",
        "  for i in range(timestamp, dataset_length):\n",
        "    X.append(dataset[i-timestamp:i,0])\n",
        "    Y.append(dataset[i,0])\n",
        "  X,Y = np.array(X),np.array(Y)\n",
        "\n",
        "  return X,Y\n"
      ],
      "metadata": {
        "id": "TMViVyPXqc34"
      },
      "id": "TMViVyPXqc34",
      "execution_count": null,
      "outputs": []
    },
    {
      "cell_type": "code",
      "source": [
        "train_data.shape[0]"
      ],
      "metadata": {
        "colab": {
          "base_uri": "https://localhost:8080/"
        },
        "id": "oWhtnA1tsxUP",
        "outputId": "67bc66c8-9735-4332-8f68-9a06e81f8a20"
      },
      "id": "oWhtnA1tsxUP",
      "execution_count": null,
      "outputs": [
        {
          "output_type": "execute_result",
          "data": {
            "text/plain": [
              "192"
            ]
          },
          "metadata": {},
          "execution_count": 26
        }
      ]
    },
    {
      "cell_type": "code",
      "execution_count": null,
      "metadata": {
        "id": "94fd11e3"
      },
      "outputs": [],
      "source": [
        "timestamp = 20\n",
        "X_train,Y_train = GenerateTimeSeries(train_data,timestamp, train_data.shape[0])\n",
        "\n",
        "X_test,Y_test = GenerateTimeSeries(scaled_test, timestamp, scaled_test.shape[0])"
      ],
      "id": "94fd11e3"
    },
    {
      "cell_type": "code",
      "source": [
        "X_val, Y_val = GenerateTimeSeries(val_data, timestamp, val_data.shape[0])"
      ],
      "metadata": {
        "id": "Y49X9g8bRGIC"
      },
      "id": "Y49X9g8bRGIC",
      "execution_count": null,
      "outputs": []
    },
    {
      "cell_type": "code",
      "execution_count": null,
      "metadata": {
        "colab": {
          "base_uri": "https://localhost:8080/"
        },
        "id": "1bcd4eb2",
        "outputId": "216bb0e0-fe1d-4795-c5ca-3d9687c2162c",
        "scrolled": false
      },
      "outputs": [
        {
          "output_type": "execute_result",
          "data": {
            "text/plain": [
              "(array([[0.64743236, 0.69105467, 0.67034787, ..., 0.65461071, 0.6987852 ,\n",
              "         0.75483158],\n",
              "        [0.69105467, 0.67034787, 0.66344561, ..., 0.6987852 , 0.75483158,\n",
              "         0.74102706],\n",
              "        [0.67034787, 0.66344561, 0.65461071, ..., 0.75483158, 0.74102706,\n",
              "         0.74047488],\n",
              "        ...,\n",
              "        [0.30314743, 0.27912755, 0.283545  , ..., 0.20237438, 0.24075097,\n",
              "         0.23136389],\n",
              "        [0.27912755, 0.283545  , 0.20320265, ..., 0.24075097, 0.23136389,\n",
              "         0.19630039],\n",
              "        [0.283545  , 0.20320265, 0.21590282, ..., 0.23136389, 0.19630039,\n",
              "         0.20154611]]),\n",
              " array([0.74102706, 0.74047488, 0.75676422, 0.75041414, 0.73992269,\n",
              "        0.67034787, 0.70679183, 0.68277195, 0.62313639, 0.67973495,\n",
              "        0.74378796, 0.69243512, 0.69519602, 0.72611817, 0.76836002,\n",
              "        0.73495306, 0.78464936, 0.93843181, 0.95527333, 0.9676974 ,\n",
              "        0.9414688 , 0.95306461, 0.95692987, 0.88928769, 0.84676974,\n",
              "        0.81971287, 0.7747101 , 0.83489785, 0.82909994, 0.83655439,\n",
              "        0.78161237, 0.78244064, 0.83130867, 0.84676974, 0.84594147,\n",
              "        0.83793484, 0.82633904, 0.74434014, 0.76200994, 0.7368857 ,\n",
              "        0.74240751, 0.76918829, 0.78602982, 0.74903368, 0.81115406,\n",
              "        0.85864163, 0.89839867, 0.87493098, 0.84649365, 0.81612369,\n",
              "        0.93732744, 0.97929321, 1.        , 0.9884042 , 0.95554942,\n",
              "        0.98978465, 0.98012148, 0.96521259, 0.99282165, 0.98509111,\n",
              "        0.86278299, 0.87382662, 0.83655439, 0.78879072, 0.76477084,\n",
              "        0.70237438, 0.70541137, 0.72446162, 0.713418  , 0.78520155,\n",
              "        0.77747101, 0.70403092, 0.69215903, 0.64826063, 0.66399779,\n",
              "        0.65654335, 0.60877968, 0.58696853, 0.5993926 , 0.5935947 ,\n",
              "        0.59828824, 0.58503589, 0.64605191, 0.60408614, 0.67697405,\n",
              "        0.69768084, 0.65571507, 0.66731088, 0.66648261, 0.67918277,\n",
              "        0.68967421, 0.71535064, 0.66786306, 0.65654335, 0.72860298,\n",
              "        0.73302043, 0.72308117, 0.73716179, 0.67725014, 0.68166759,\n",
              "        0.75207068, 0.73522916, 0.75704031, 0.71397018, 0.67448923,\n",
              "        0.71314191, 0.70982882, 0.69961347, 0.67366096, 0.65626726,\n",
              "        0.64715627, 0.66648261, 0.60601877, 0.57702927, 0.58337935,\n",
              "        0.57923799, 0.55466593, 0.5585312 , 0.53975704, 0.53147432,\n",
              "        0.48343457, 0.37796797, 0.42628382, 0.41247929, 0.43981226,\n",
              "        0.46438432, 0.45168415, 0.40281612, 0.35726118, 0.28299282,\n",
              "        0.31916068, 0.37217007, 0.36775262, 0.33158476, 0.18663722,\n",
              "        0.20734401, 0.17393705, 0.19436775, 0.21120928, 0.23743788,\n",
              "        0.19436775, 0.10629486, 0.1051905 , 0.03699613, 0.04803976,\n",
              "        0.07261182, 0.06184428, 0.14053009, 0.21397018, 0.30314743,\n",
              "        0.27912755, 0.283545  , 0.20320265, 0.21590282, 0.20789619,\n",
              "        0.216455  , 0.12424075, 0.12451684, 0.12175594, 0.20430701,\n",
              "        0.19271121, 0.25096632, 0.28851463, 0.29596908, 0.26559912,\n",
              "        0.18470458, 0.20237438, 0.24075097, 0.23136389, 0.19630039,\n",
              "        0.20154611, 0.2573164 ]))"
            ]
          },
          "metadata": {},
          "execution_count": 29
        }
      ],
      "source": [
        "X_train,Y_train"
      ],
      "id": "1bcd4eb2"
    },
    {
      "cell_type": "code",
      "execution_count": null,
      "metadata": {
        "id": "38a88c3b"
      },
      "outputs": [],
      "source": [
        "from keras.models import Sequential,Model\n",
        "from keras.layers import Dense,LSTM,Dropout,GRU, Input"
      ],
      "id": "38a88c3b"
    },
    {
      "cell_type": "code",
      "source": [
        "def lstm_model(input_shape):\n",
        "  regressor = Sequential()\n",
        "  regressor.add(LSTM(units=100,return_sequences=True, input_shape = input_shape))\n",
        "  regressor.add(Dropout(0.2))\n",
        "  regressor.add(LSTM(units=100, return_sequences=True))\n",
        "  regressor.add(Dropout(0.2))\n",
        "  regressor.add(LSTM(units=100, return_sequences=True))\n",
        "  regressor.add(Dropout(0.2))\n",
        "  regressor.add(LSTM(units=100, return_sequences=True))\n",
        "  regressor.add(Dropout(0.2))\n",
        "  regressor.add(LSTM(units=100))\n",
        "  regressor.add(Dropout(0.2))\n",
        "  regressor.add(Dense(units=1))\n",
        "\n",
        "  noise = Input(shape = input_shape)\n",
        "  output = regressor(noise)\n",
        "\n",
        "  regressor.summary()\n",
        "  return Model(noise,output)\n",
        "\n",
        "def gru_model(input_shape):\n",
        "  regressor = Sequential()\n",
        "  regressor.add(GRU(units=100, return_sequences=True, input_shape = input_shape))\n",
        "  regressor.add(Dropout(0.2))\n",
        "  regressor.add(GRU(units=100, return_sequences=True))\n",
        "  regressor.add(Dropout(0.2))\n",
        "  regressor.add(GRU(units=100, return_sequences=True))\n",
        "  regressor.add(Dropout(0.2))\n",
        "  regressor.add(GRU(units=100, return_sequences=True))\n",
        "  regressor.add(Dropout(0.2))\n",
        "  regressor.add(GRU(units=100))\n",
        "  regressor.add(Dropout(0.2))\n",
        "  regressor.add(Dense(units=1))\n",
        "\n",
        "  noise = Input(shape = input_shape)\n",
        "  output = regressor(noise)\n",
        "  regressor.summary()\n",
        "  return Model(noise,output)"
      ],
      "metadata": {
        "id": "zDK_rgrUyErO"
      },
      "id": "zDK_rgrUyErO",
      "execution_count": null,
      "outputs": []
    },
    {
      "cell_type": "code",
      "source": [
        "feature = 1\n",
        "input_shape = (timestamp,feature)\n",
        "lstm = lstm_model(input_shape)\n",
        "gru = gru_model(input_shape)"
      ],
      "metadata": {
        "colab": {
          "base_uri": "https://localhost:8080/"
        },
        "id": "Xq97_SBryFyA",
        "outputId": "380f32df-0d85-4432-8f69-e43ac3f1fcf9"
      },
      "id": "Xq97_SBryFyA",
      "execution_count": null,
      "outputs": [
        {
          "output_type": "stream",
          "name": "stdout",
          "text": [
            "Model: \"sequential\"\n",
            "_________________________________________________________________\n",
            " Layer (type)                Output Shape              Param #   \n",
            "=================================================================\n",
            " lstm (LSTM)                 (None, 20, 100)           40800     \n",
            "                                                                 \n",
            " dropout (Dropout)           (None, 20, 100)           0         \n",
            "                                                                 \n",
            " lstm_1 (LSTM)               (None, 20, 100)           80400     \n",
            "                                                                 \n",
            " dropout_1 (Dropout)         (None, 20, 100)           0         \n",
            "                                                                 \n",
            " lstm_2 (LSTM)               (None, 20, 100)           80400     \n",
            "                                                                 \n",
            " dropout_2 (Dropout)         (None, 20, 100)           0         \n",
            "                                                                 \n",
            " lstm_3 (LSTM)               (None, 20, 100)           80400     \n",
            "                                                                 \n",
            " dropout_3 (Dropout)         (None, 20, 100)           0         \n",
            "                                                                 \n",
            " lstm_4 (LSTM)               (None, 100)               80400     \n",
            "                                                                 \n",
            " dropout_4 (Dropout)         (None, 100)               0         \n",
            "                                                                 \n",
            " dense (Dense)               (None, 1)                 101       \n",
            "                                                                 \n",
            "=================================================================\n",
            "Total params: 362501 (1.38 MB)\n",
            "Trainable params: 362501 (1.38 MB)\n",
            "Non-trainable params: 0 (0.00 Byte)\n",
            "_________________________________________________________________\n",
            "Model: \"sequential_1\"\n",
            "_________________________________________________________________\n",
            " Layer (type)                Output Shape              Param #   \n",
            "=================================================================\n",
            " gru (GRU)                   (None, 20, 100)           30900     \n",
            "                                                                 \n",
            " dropout_5 (Dropout)         (None, 20, 100)           0         \n",
            "                                                                 \n",
            " gru_1 (GRU)                 (None, 20, 100)           60600     \n",
            "                                                                 \n",
            " dropout_6 (Dropout)         (None, 20, 100)           0         \n",
            "                                                                 \n",
            " gru_2 (GRU)                 (None, 20, 100)           60600     \n",
            "                                                                 \n",
            " dropout_7 (Dropout)         (None, 20, 100)           0         \n",
            "                                                                 \n",
            " gru_3 (GRU)                 (None, 20, 100)           60600     \n",
            "                                                                 \n",
            " dropout_8 (Dropout)         (None, 20, 100)           0         \n",
            "                                                                 \n",
            " gru_4 (GRU)                 (None, 100)               60600     \n",
            "                                                                 \n",
            " dropout_9 (Dropout)         (None, 100)               0         \n",
            "                                                                 \n",
            " dense_1 (Dense)             (None, 1)                 101       \n",
            "                                                                 \n",
            "=================================================================\n",
            "Total params: 273401 (1.04 MB)\n",
            "Trainable params: 273401 (1.04 MB)\n",
            "Non-trainable params: 0 (0.00 Byte)\n",
            "_________________________________________________________________\n"
          ]
        }
      ]
    },
    {
      "cell_type": "code",
      "execution_count": null,
      "metadata": {
        "id": "420c5270"
      },
      "outputs": [],
      "source": [
        "lstm.compile(optimizer='adam', loss='mse')\n",
        "gru.compile(optimizer='adam', loss='mse')"
      ],
      "id": "420c5270"
    },
    {
      "cell_type": "code",
      "execution_count": null,
      "metadata": {
        "id": "261d989a"
      },
      "outputs": [],
      "source": [
        "from tensorflow.keras.callbacks import EarlyStopping\n",
        "early_stopping_callback = EarlyStopping(\n",
        "    monitor='val_loss',\n",
        "    patience=6,\n",
        "    verbose=1,\n",
        "    mode='min'\n",
        ")"
      ],
      "id": "261d989a"
    },
    {
      "cell_type": "code",
      "execution_count": null,
      "metadata": {
        "colab": {
          "base_uri": "https://localhost:8080/"
        },
        "id": "55cc8d9d",
        "outputId": "b7a9d16a-69e9-4d26-f86b-6b64ca043632",
        "scrolled": true
      },
      "outputs": [
        {
          "output_type": "stream",
          "name": "stdout",
          "text": [
            "Epoch 1/150\n",
            "6/6 [==============================] - 13s 695ms/step - loss: 0.2171 - val_loss: 0.0248\n",
            "Epoch 2/150\n",
            "6/6 [==============================] - 1s 87ms/step - loss: 0.0509 - val_loss: 0.0175\n",
            "Epoch 3/150\n",
            "6/6 [==============================] - 1s 86ms/step - loss: 0.0334 - val_loss: 0.0240\n",
            "Epoch 4/150\n",
            "6/6 [==============================] - 1s 140ms/step - loss: 0.0357 - val_loss: 0.0160\n",
            "Epoch 5/150\n",
            "6/6 [==============================] - 1s 136ms/step - loss: 0.0307 - val_loss: 0.0155\n",
            "Epoch 6/150\n",
            "6/6 [==============================] - 1s 139ms/step - loss: 0.0249 - val_loss: 0.0109\n",
            "Epoch 7/150\n",
            "6/6 [==============================] - 1s 136ms/step - loss: 0.0248 - val_loss: 0.0107\n",
            "Epoch 8/150\n",
            "6/6 [==============================] - 1s 122ms/step - loss: 0.0232 - val_loss: 0.0143\n",
            "Epoch 9/150\n",
            "6/6 [==============================] - 1s 88ms/step - loss: 0.0221 - val_loss: 0.0144\n",
            "Epoch 10/150\n",
            "6/6 [==============================] - 1s 87ms/step - loss: 0.0229 - val_loss: 0.0186\n",
            "Epoch 11/150\n",
            "6/6 [==============================] - 1s 87ms/step - loss: 0.0246 - val_loss: 0.0157\n",
            "Epoch 12/150\n",
            "6/6 [==============================] - 1s 86ms/step - loss: 0.0206 - val_loss: 0.0134\n",
            "Epoch 13/150\n",
            "6/6 [==============================] - 1s 117ms/step - loss: 0.0207 - val_loss: 0.0171\n",
            "Epoch 14/150\n",
            "6/6 [==============================] - 1s 86ms/step - loss: 0.0218 - val_loss: 0.0127\n",
            "Epoch 15/150\n",
            "6/6 [==============================] - 1s 86ms/step - loss: 0.0218 - val_loss: 0.0118\n",
            "Epoch 16/150\n",
            "6/6 [==============================] - 1s 86ms/step - loss: 0.0226 - val_loss: 0.0133\n",
            "Epoch 17/150\n",
            "6/6 [==============================] - 1s 88ms/step - loss: 0.0196 - val_loss: 0.0139\n",
            "Epoch 18/150\n",
            "6/6 [==============================] - 1s 86ms/step - loss: 0.0200 - val_loss: 0.0123\n",
            "Epoch 19/150\n",
            "6/6 [==============================] - 1s 85ms/step - loss: 0.0230 - val_loss: 0.0140\n",
            "Epoch 20/150\n",
            "6/6 [==============================] - 1s 84ms/step - loss: 0.0199 - val_loss: 0.0140\n",
            "Epoch 21/150\n",
            "6/6 [==============================] - 1s 87ms/step - loss: 0.0222 - val_loss: 0.0115\n",
            "Epoch 22/150\n",
            "6/6 [==============================] - 1s 95ms/step - loss: 0.0201 - val_loss: 0.0108\n",
            "Epoch 23/150\n",
            "6/6 [==============================] - 1s 85ms/step - loss: 0.0211 - val_loss: 0.0144\n",
            "Epoch 24/150\n",
            "6/6 [==============================] - 1s 87ms/step - loss: 0.0201 - val_loss: 0.0143\n",
            "Epoch 25/150\n",
            "6/6 [==============================] - 1s 86ms/step - loss: 0.0187 - val_loss: 0.0157\n",
            "Epoch 26/150\n",
            "6/6 [==============================] - 1s 87ms/step - loss: 0.0223 - val_loss: 0.0140\n",
            "Epoch 27/150\n",
            "6/6 [==============================] - 1s 133ms/step - loss: 0.0202 - val_loss: 0.0132\n",
            "Epoch 28/150\n",
            "6/6 [==============================] - 1s 139ms/step - loss: 0.0199 - val_loss: 0.0123\n",
            "Epoch 29/150\n",
            "6/6 [==============================] - 1s 139ms/step - loss: 0.0183 - val_loss: 0.0131\n",
            "Epoch 30/150\n",
            "6/6 [==============================] - 1s 136ms/step - loss: 0.0162 - val_loss: 0.0115\n",
            "Epoch 31/150\n",
            "6/6 [==============================] - 1s 196ms/step - loss: 0.0172 - val_loss: 0.0137\n",
            "Epoch 32/150\n",
            "6/6 [==============================] - 1s 164ms/step - loss: 0.0147 - val_loss: 0.0156\n",
            "Epoch 33/150\n",
            "6/6 [==============================] - 1s 207ms/step - loss: 0.0160 - val_loss: 0.0149\n",
            "Epoch 34/150\n",
            "6/6 [==============================] - 1s 152ms/step - loss: 0.0157 - val_loss: 0.0131\n",
            "Epoch 35/150\n",
            "6/6 [==============================] - 1s 200ms/step - loss: 0.0151 - val_loss: 0.0114\n",
            "Epoch 36/150\n",
            "6/6 [==============================] - 1s 184ms/step - loss: 0.0132 - val_loss: 0.0123\n",
            "Epoch 37/150\n",
            "6/6 [==============================] - 1s 219ms/step - loss: 0.0161 - val_loss: 0.0141\n",
            "Epoch 38/150\n",
            "6/6 [==============================] - 1s 220ms/step - loss: 0.0162 - val_loss: 0.0158\n",
            "Epoch 39/150\n",
            "6/6 [==============================] - 1s 173ms/step - loss: 0.0203 - val_loss: 0.0127\n",
            "Epoch 40/150\n",
            "6/6 [==============================] - 1s 192ms/step - loss: 0.0188 - val_loss: 0.0112\n",
            "Epoch 41/150\n",
            "6/6 [==============================] - 2s 275ms/step - loss: 0.0132 - val_loss: 0.0117\n",
            "Epoch 42/150\n",
            "6/6 [==============================] - 2s 257ms/step - loss: 0.0128 - val_loss: 0.0141\n",
            "Epoch 43/150\n",
            "6/6 [==============================] - 1s 206ms/step - loss: 0.0142 - val_loss: 0.0145\n",
            "Epoch 44/150\n",
            "6/6 [==============================] - 1s 223ms/step - loss: 0.0118 - val_loss: 0.0142\n",
            "Epoch 45/150\n",
            "6/6 [==============================] - 2s 246ms/step - loss: 0.0130 - val_loss: 0.0129\n",
            "Epoch 46/150\n",
            "6/6 [==============================] - 1s 179ms/step - loss: 0.0126 - val_loss: 0.0124\n",
            "Epoch 47/150\n",
            "6/6 [==============================] - 1s 177ms/step - loss: 0.0141 - val_loss: 0.0133\n",
            "Epoch 48/150\n",
            "6/6 [==============================] - 1s 196ms/step - loss: 0.0148 - val_loss: 0.0139\n",
            "Epoch 49/150\n",
            "6/6 [==============================] - 1s 159ms/step - loss: 0.0105 - val_loss: 0.0123\n",
            "Epoch 50/150\n",
            "6/6 [==============================] - 1s 92ms/step - loss: 0.0117 - val_loss: 0.0119\n",
            "Epoch 51/150\n",
            "6/6 [==============================] - 1s 88ms/step - loss: 0.0116 - val_loss: 0.0124\n",
            "Epoch 52/150\n",
            "6/6 [==============================] - 1s 86ms/step - loss: 0.0109 - val_loss: 0.0123\n",
            "Epoch 53/150\n",
            "6/6 [==============================] - 1s 88ms/step - loss: 0.0114 - val_loss: 0.0127\n",
            "Epoch 54/150\n",
            "6/6 [==============================] - 1s 113ms/step - loss: 0.0109 - val_loss: 0.0129\n",
            "Epoch 55/150\n",
            "6/6 [==============================] - 1s 137ms/step - loss: 0.0121 - val_loss: 0.0122\n",
            "Epoch 56/150\n",
            "6/6 [==============================] - 1s 138ms/step - loss: 0.0126 - val_loss: 0.0119\n",
            "Epoch 57/150\n",
            "6/6 [==============================] - 1s 146ms/step - loss: 0.0110 - val_loss: 0.0118\n",
            "Epoch 58/150\n",
            "6/6 [==============================] - 1s 139ms/step - loss: 0.0111 - val_loss: 0.0125\n",
            "Epoch 59/150\n",
            "6/6 [==============================] - 1s 88ms/step - loss: 0.0120 - val_loss: 0.0137\n",
            "Epoch 60/150\n",
            "6/6 [==============================] - 1s 86ms/step - loss: 0.0103 - val_loss: 0.0132\n",
            "Epoch 61/150\n",
            "6/6 [==============================] - 1s 89ms/step - loss: 0.0119 - val_loss: 0.0117\n",
            "Epoch 62/150\n",
            "6/6 [==============================] - 1s 87ms/step - loss: 0.0129 - val_loss: 0.0127\n",
            "Epoch 63/150\n",
            "6/6 [==============================] - 1s 87ms/step - loss: 0.0102 - val_loss: 0.0122\n",
            "Epoch 64/150\n",
            "6/6 [==============================] - 1s 85ms/step - loss: 0.0107 - val_loss: 0.0126\n",
            "Epoch 65/150\n",
            "6/6 [==============================] - 1s 88ms/step - loss: 0.0104 - val_loss: 0.0137\n",
            "Epoch 66/150\n",
            "6/6 [==============================] - 1s 87ms/step - loss: 0.0122 - val_loss: 0.0129\n",
            "Epoch 67/150\n",
            "6/6 [==============================] - 1s 88ms/step - loss: 0.0112 - val_loss: 0.0119\n",
            "Epoch 68/150\n",
            "6/6 [==============================] - 1s 87ms/step - loss: 0.0136 - val_loss: 0.0116\n",
            "Epoch 69/150\n",
            "6/6 [==============================] - 1s 87ms/step - loss: 0.0120 - val_loss: 0.0122\n",
            "Epoch 70/150\n",
            "6/6 [==============================] - 1s 86ms/step - loss: 0.0096 - val_loss: 0.0127\n",
            "Epoch 71/150\n",
            "6/6 [==============================] - 1s 86ms/step - loss: 0.0140 - val_loss: 0.0114\n",
            "Epoch 72/150\n",
            "6/6 [==============================] - 1s 87ms/step - loss: 0.0107 - val_loss: 0.0117\n",
            "Epoch 73/150\n",
            "6/6 [==============================] - 1s 89ms/step - loss: 0.0113 - val_loss: 0.0120\n",
            "Epoch 74/150\n",
            "6/6 [==============================] - 1s 86ms/step - loss: 0.0102 - val_loss: 0.0132\n",
            "Epoch 75/150\n",
            "6/6 [==============================] - 1s 88ms/step - loss: 0.0089 - val_loss: 0.0120\n",
            "Epoch 76/150\n",
            "6/6 [==============================] - 1s 85ms/step - loss: 0.0099 - val_loss: 0.0125\n",
            "Epoch 77/150\n",
            "6/6 [==============================] - 1s 87ms/step - loss: 0.0105 - val_loss: 0.0131\n",
            "Epoch 78/150\n",
            "6/6 [==============================] - 1s 130ms/step - loss: 0.0121 - val_loss: 0.0125\n",
            "Epoch 79/150\n",
            "6/6 [==============================] - 1s 147ms/step - loss: 0.0118 - val_loss: 0.0120\n",
            "Epoch 80/150\n",
            "6/6 [==============================] - 1s 139ms/step - loss: 0.0097 - val_loss: 0.0117\n",
            "Epoch 81/150\n",
            "6/6 [==============================] - 1s 137ms/step - loss: 0.0092 - val_loss: 0.0126\n",
            "Epoch 82/150\n",
            "6/6 [==============================] - 1s 123ms/step - loss: 0.0097 - val_loss: 0.0134\n",
            "Epoch 83/150\n",
            "6/6 [==============================] - 0s 83ms/step - loss: 0.0095 - val_loss: 0.0131\n",
            "Epoch 84/150\n",
            "6/6 [==============================] - 1s 90ms/step - loss: 0.0086 - val_loss: 0.0129\n",
            "Epoch 85/150\n",
            "6/6 [==============================] - 1s 85ms/step - loss: 0.0082 - val_loss: 0.0135\n",
            "Epoch 86/150\n",
            "6/6 [==============================] - 1s 89ms/step - loss: 0.0079 - val_loss: 0.0120\n",
            "Epoch 87/150\n",
            "6/6 [==============================] - 1s 87ms/step - loss: 0.0110 - val_loss: 0.0120\n",
            "Epoch 88/150\n",
            "6/6 [==============================] - 1s 91ms/step - loss: 0.0113 - val_loss: 0.0133\n",
            "Epoch 89/150\n",
            "6/6 [==============================] - 1s 86ms/step - loss: 0.0099 - val_loss: 0.0117\n",
            "Epoch 90/150\n",
            "6/6 [==============================] - 1s 92ms/step - loss: 0.0105 - val_loss: 0.0124\n",
            "Epoch 91/150\n",
            "6/6 [==============================] - 1s 85ms/step - loss: 0.0101 - val_loss: 0.0130\n",
            "Epoch 92/150\n",
            "6/6 [==============================] - 1s 89ms/step - loss: 0.0081 - val_loss: 0.0136\n",
            "Epoch 93/150\n",
            "6/6 [==============================] - 1s 87ms/step - loss: 0.0079 - val_loss: 0.0122\n",
            "Epoch 94/150\n",
            "6/6 [==============================] - 1s 88ms/step - loss: 0.0092 - val_loss: 0.0115\n",
            "Epoch 95/150\n",
            "6/6 [==============================] - 1s 86ms/step - loss: 0.0080 - val_loss: 0.0118\n",
            "Epoch 96/150\n",
            "6/6 [==============================] - 1s 90ms/step - loss: 0.0084 - val_loss: 0.0130\n",
            "Epoch 97/150\n",
            "6/6 [==============================] - 1s 84ms/step - loss: 0.0084 - val_loss: 0.0127\n",
            "Epoch 98/150\n",
            "6/6 [==============================] - 1s 88ms/step - loss: 0.0089 - val_loss: 0.0114\n",
            "Epoch 99/150\n",
            "6/6 [==============================] - 1s 87ms/step - loss: 0.0078 - val_loss: 0.0110\n",
            "Epoch 100/150\n",
            "6/6 [==============================] - 1s 88ms/step - loss: 0.0085 - val_loss: 0.0120\n",
            "Epoch 101/150\n",
            "6/6 [==============================] - 1s 94ms/step - loss: 0.0083 - val_loss: 0.0121\n",
            "Epoch 102/150\n",
            "6/6 [==============================] - 1s 137ms/step - loss: 0.0071 - val_loss: 0.0114\n",
            "Epoch 103/150\n",
            "6/6 [==============================] - 1s 146ms/step - loss: 0.0065 - val_loss: 0.0114\n",
            "Epoch 104/150\n",
            "6/6 [==============================] - 1s 137ms/step - loss: 0.0073 - val_loss: 0.0121\n",
            "Epoch 105/150\n",
            "6/6 [==============================] - 1s 144ms/step - loss: 0.0086 - val_loss: 0.0127\n",
            "Epoch 106/150\n",
            "6/6 [==============================] - 1s 95ms/step - loss: 0.0072 - val_loss: 0.0116\n",
            "Epoch 107/150\n",
            "6/6 [==============================] - 1s 91ms/step - loss: 0.0076 - val_loss: 0.0109\n",
            "Epoch 108/150\n",
            "6/6 [==============================] - 1s 89ms/step - loss: 0.0073 - val_loss: 0.0116\n",
            "Epoch 109/150\n",
            "6/6 [==============================] - 1s 87ms/step - loss: 0.0090 - val_loss: 0.0119\n",
            "Epoch 110/150\n",
            "6/6 [==============================] - 1s 87ms/step - loss: 0.0081 - val_loss: 0.0119\n",
            "Epoch 111/150\n",
            "6/6 [==============================] - 1s 88ms/step - loss: 0.0085 - val_loss: 0.0110\n",
            "Epoch 112/150\n",
            "6/6 [==============================] - 1s 87ms/step - loss: 0.0076 - val_loss: 0.0111\n",
            "Epoch 113/150\n",
            "6/6 [==============================] - 1s 90ms/step - loss: 0.0066 - val_loss: 0.0128\n",
            "Epoch 114/150\n",
            "6/6 [==============================] - 1s 87ms/step - loss: 0.0073 - val_loss: 0.0119\n",
            "Epoch 115/150\n",
            "6/6 [==============================] - 1s 90ms/step - loss: 0.0068 - val_loss: 0.0109\n",
            "Epoch 116/150\n",
            "6/6 [==============================] - 1s 86ms/step - loss: 0.0063 - val_loss: 0.0113\n",
            "Epoch 117/150\n",
            "6/6 [==============================] - 1s 87ms/step - loss: 0.0070 - val_loss: 0.0122\n",
            "Epoch 118/150\n",
            "6/6 [==============================] - 1s 88ms/step - loss: 0.0066 - val_loss: 0.0117\n",
            "Epoch 119/150\n",
            "6/6 [==============================] - 1s 88ms/step - loss: 0.0066 - val_loss: 0.0108\n",
            "Epoch 120/150\n",
            "6/6 [==============================] - 1s 87ms/step - loss: 0.0064 - val_loss: 0.0108\n",
            "Epoch 121/150\n",
            "6/6 [==============================] - 1s 92ms/step - loss: 0.0060 - val_loss: 0.0108\n",
            "Epoch 122/150\n",
            "6/6 [==============================] - 1s 87ms/step - loss: 0.0067 - val_loss: 0.0117\n",
            "Epoch 123/150\n",
            "6/6 [==============================] - 1s 91ms/step - loss: 0.0072 - val_loss: 0.0105\n",
            "Epoch 124/150\n",
            "6/6 [==============================] - 1s 87ms/step - loss: 0.0066 - val_loss: 0.0110\n",
            "Epoch 125/150\n",
            "6/6 [==============================] - 1s 135ms/step - loss: 0.0080 - val_loss: 0.0159\n",
            "Epoch 126/150\n",
            "6/6 [==============================] - 1s 135ms/step - loss: 0.0056 - val_loss: 0.0106\n",
            "Epoch 127/150\n",
            "6/6 [==============================] - 1s 138ms/step - loss: 0.0062 - val_loss: 0.0108\n",
            "Epoch 128/150\n",
            "6/6 [==============================] - 1s 143ms/step - loss: 0.0064 - val_loss: 0.0111\n",
            "Epoch 129/150\n",
            "6/6 [==============================] - 1s 129ms/step - loss: 0.0065 - val_loss: 0.0112\n",
            "Epoch 130/150\n",
            "6/6 [==============================] - 1s 89ms/step - loss: 0.0078 - val_loss: 0.0102\n",
            "Epoch 131/150\n",
            "6/6 [==============================] - 1s 85ms/step - loss: 0.0069 - val_loss: 0.0104\n",
            "Epoch 132/150\n",
            "6/6 [==============================] - 1s 89ms/step - loss: 0.0049 - val_loss: 0.0123\n",
            "Epoch 133/150\n",
            "6/6 [==============================] - 1s 85ms/step - loss: 0.0076 - val_loss: 0.0105\n",
            "Epoch 134/150\n",
            "6/6 [==============================] - 1s 89ms/step - loss: 0.0059 - val_loss: 0.0101\n",
            "Epoch 135/150\n",
            "6/6 [==============================] - 1s 89ms/step - loss: 0.0065 - val_loss: 0.0112\n",
            "Epoch 136/150\n",
            "6/6 [==============================] - 1s 88ms/step - loss: 0.0046 - val_loss: 0.0099\n",
            "Epoch 137/150\n",
            "6/6 [==============================] - 1s 87ms/step - loss: 0.0066 - val_loss: 0.0102\n",
            "Epoch 138/150\n",
            "6/6 [==============================] - 1s 91ms/step - loss: 0.0052 - val_loss: 0.0119\n",
            "Epoch 139/150\n",
            "6/6 [==============================] - 1s 87ms/step - loss: 0.0074 - val_loss: 0.0112\n",
            "Epoch 140/150\n",
            "6/6 [==============================] - 1s 89ms/step - loss: 0.0048 - val_loss: 0.0115\n",
            "Epoch 141/150\n",
            "6/6 [==============================] - 1s 86ms/step - loss: 0.0066 - val_loss: 0.0115\n",
            "Epoch 142/150\n",
            "6/6 [==============================] - 1s 88ms/step - loss: 0.0062 - val_loss: 0.0112\n",
            "Epoch 143/150\n",
            "6/6 [==============================] - 1s 86ms/step - loss: 0.0074 - val_loss: 0.0101\n",
            "Epoch 144/150\n",
            "6/6 [==============================] - 1s 90ms/step - loss: 0.0061 - val_loss: 0.0109\n",
            "Epoch 145/150\n",
            "6/6 [==============================] - 1s 86ms/step - loss: 0.0057 - val_loss: 0.0109\n",
            "Epoch 146/150\n",
            "6/6 [==============================] - 1s 89ms/step - loss: 0.0052 - val_loss: 0.0108\n",
            "Epoch 147/150\n",
            "6/6 [==============================] - 1s 85ms/step - loss: 0.0063 - val_loss: 0.0110\n",
            "Epoch 148/150\n",
            "6/6 [==============================] - 1s 99ms/step - loss: 0.0057 - val_loss: 0.0103\n",
            "Epoch 149/150\n",
            "6/6 [==============================] - 1s 151ms/step - loss: 0.0052 - val_loss: 0.0113\n",
            "Epoch 150/150\n",
            "6/6 [==============================] - 1s 136ms/step - loss: 0.0055 - val_loss: 0.0098\n"
          ]
        },
        {
          "output_type": "execute_result",
          "data": {
            "text/plain": [
              "<keras.src.callbacks.History at 0x7d0860fa0820>"
            ]
          },
          "metadata": {},
          "execution_count": 35
        }
      ],
      "source": [
        "lstm.fit(X_train, Y_train, validation_data= (X_val,Y_val), epochs=150, batch_size=32)"
      ],
      "id": "55cc8d9d"
    },
    {
      "cell_type": "code",
      "execution_count": null,
      "metadata": {
        "colab": {
          "base_uri": "https://localhost:8080/",
          "height": 447
        },
        "id": "0d4180e0",
        "outputId": "033691c1-1b8e-493a-bbbf-21356a4b065c"
      },
      "outputs": [
        {
          "output_type": "execute_result",
          "data": {
            "text/plain": [
              "[<matplotlib.lines.Line2D at 0x7d0860e3e080>]"
            ]
          },
          "metadata": {},
          "execution_count": 36
        },
        {
          "output_type": "display_data",
          "data": {
            "text/plain": [
              "<Figure size 640x480 with 1 Axes>"
            ],
            "image/png": "[encoded data removed]"
          },
          "metadata": {}
        }
      ],
      "source": [
        "plt.plot(lstm.history.history['loss'],color='red',label='train')\n",
        "plt.plot(lstm.history.history['val_loss'],color='blue',label='train')"
      ],
      "id": "0d4180e0"
    },
    {
      "cell_type": "code",
      "execution_count": null,
      "metadata": {
        "id": "cd0a8a26",
        "colab": {
          "base_uri": "https://localhost:8080/"
        },
        "outputId": "20dc2ddd-916e-460a-e5e1-c63cc9c3d168"
      },
      "outputs": [
        {
          "output_type": "stream",
          "name": "stdout",
          "text": [
            "Epoch 1/150\n",
            "6/6 [==============================] - 14s 560ms/step - loss: 0.1845 - val_loss: 0.0300\n",
            "Epoch 2/150\n",
            "6/6 [==============================] - 0s 80ms/step - loss: 0.0426 - val_loss: 0.0155\n",
            "Epoch 3/150\n",
            "6/6 [==============================] - 0s 82ms/step - loss: 0.0272 - val_loss: 0.0238\n",
            "Epoch 4/150\n",
            "6/6 [==============================] - 0s 82ms/step - loss: 0.0241 - val_loss: 0.0127\n",
            "Epoch 5/150\n",
            "6/6 [==============================] - 0s 84ms/step - loss: 0.0206 - val_loss: 0.0182\n",
            "Epoch 6/150\n",
            "6/6 [==============================] - 1s 90ms/step - loss: 0.0179 - val_loss: 0.0103\n",
            "Epoch 7/150\n",
            "6/6 [==============================] - 0s 82ms/step - loss: 0.0155 - val_loss: 0.0106\n",
            "Epoch 8/150\n",
            "6/6 [==============================] - 1s 87ms/step - loss: 0.0125 - val_loss: 0.0149\n",
            "Epoch 9/150\n",
            "6/6 [==============================] - 0s 83ms/step - loss: 0.0145 - val_loss: 0.0117\n",
            "Epoch 10/150\n",
            "6/6 [==============================] - 1s 145ms/step - loss: 0.0110 - val_loss: 0.0166\n",
            "Epoch 11/150\n",
            "6/6 [==============================] - 1s 115ms/step - loss: 0.0096 - val_loss: 0.0112\n",
            "Epoch 12/150\n",
            "6/6 [==============================] - 1s 195ms/step - loss: 0.0130 - val_loss: 0.0130\n",
            "Epoch 13/150\n",
            "6/6 [==============================] - 1s 81ms/step - loss: 0.0110 - val_loss: 0.0106\n",
            "Epoch 14/150\n",
            "6/6 [==============================] - 0s 83ms/step - loss: 0.0110 - val_loss: 0.0105\n",
            "Epoch 15/150\n",
            "6/6 [==============================] - 0s 83ms/step - loss: 0.0120 - val_loss: 0.0111\n",
            "Epoch 16/150\n",
            "6/6 [==============================] - 0s 82ms/step - loss: 0.0105 - val_loss: 0.0106\n",
            "Epoch 17/150\n",
            "6/6 [==============================] - 0s 82ms/step - loss: 0.0115 - val_loss: 0.0126\n",
            "Epoch 18/150\n",
            "6/6 [==============================] - 1s 132ms/step - loss: 0.0124 - val_loss: 0.0120\n",
            "Epoch 19/150\n",
            "6/6 [==============================] - 1s 127ms/step - loss: 0.0097 - val_loss: 0.0119\n",
            "Epoch 20/150\n",
            "6/6 [==============================] - 1s 128ms/step - loss: 0.0101 - val_loss: 0.0124\n",
            "Epoch 21/150\n",
            "6/6 [==============================] - 1s 142ms/step - loss: 0.0090 - val_loss: 0.0125\n",
            "Epoch 22/150\n",
            "6/6 [==============================] - 1s 127ms/step - loss: 0.0084 - val_loss: 0.0120\n",
            "Epoch 23/150\n",
            "6/6 [==============================] - 0s 79ms/step - loss: 0.0093 - val_loss: 0.0108\n",
            "Epoch 24/150\n",
            "6/6 [==============================] - 1s 86ms/step - loss: 0.0147 - val_loss: 0.0127\n",
            "Epoch 25/150\n",
            "6/6 [==============================] - 0s 81ms/step - loss: 0.0114 - val_loss: 0.0104\n",
            "Epoch 26/150\n",
            "6/6 [==============================] - 0s 84ms/step - loss: 0.0094 - val_loss: 0.0105\n",
            "Epoch 27/150\n",
            "6/6 [==============================] - 0s 79ms/step - loss: 0.0117 - val_loss: 0.0122\n",
            "Epoch 28/150\n",
            "6/6 [==============================] - 0s 84ms/step - loss: 0.0102 - val_loss: 0.0106\n",
            "Epoch 29/150\n",
            "6/6 [==============================] - 0s 83ms/step - loss: 0.0088 - val_loss: 0.0106\n",
            "Epoch 30/150\n",
            "6/6 [==============================] - 1s 87ms/step - loss: 0.0086 - val_loss: 0.0110\n",
            "Epoch 31/150\n",
            "6/6 [==============================] - 0s 79ms/step - loss: 0.0094 - val_loss: 0.0129\n",
            "Epoch 32/150\n",
            "6/6 [==============================] - 0s 83ms/step - loss: 0.0096 - val_loss: 0.0117\n",
            "Epoch 33/150\n",
            "6/6 [==============================] - 1s 83ms/step - loss: 0.0072 - val_loss: 0.0121\n",
            "Epoch 34/150\n",
            "6/6 [==============================] - 0s 81ms/step - loss: 0.0084 - val_loss: 0.0106\n",
            "Epoch 35/150\n",
            "6/6 [==============================] - 0s 78ms/step - loss: 0.0084 - val_loss: 0.0107\n",
            "Epoch 36/150\n",
            "6/6 [==============================] - 0s 82ms/step - loss: 0.0081 - val_loss: 0.0102\n",
            "Epoch 37/150\n",
            "6/6 [==============================] - 0s 82ms/step - loss: 0.0089 - val_loss: 0.0113\n",
            "Epoch 38/150\n",
            "6/6 [==============================] - 0s 79ms/step - loss: 0.0101 - val_loss: 0.0116\n",
            "Epoch 39/150\n",
            "6/6 [==============================] - 1s 87ms/step - loss: 0.0086 - val_loss: 0.0106\n",
            "Epoch 40/150\n",
            "6/6 [==============================] - 0s 83ms/step - loss: 0.0099 - val_loss: 0.0127\n",
            "Epoch 41/150\n",
            "6/6 [==============================] - 0s 83ms/step - loss: 0.0085 - val_loss: 0.0106\n",
            "Epoch 42/150\n",
            "6/6 [==============================] - 0s 80ms/step - loss: 0.0071 - val_loss: 0.0108\n",
            "Epoch 43/150\n",
            "6/6 [==============================] - 1s 135ms/step - loss: 0.0083 - val_loss: 0.0104\n",
            "Epoch 44/150\n",
            "6/6 [==============================] - 1s 140ms/step - loss: 0.0069 - val_loss: 0.0116\n",
            "Epoch 45/150\n",
            "6/6 [==============================] - 1s 128ms/step - loss: 0.0068 - val_loss: 0.0108\n",
            "Epoch 46/150\n",
            "6/6 [==============================] - 1s 137ms/step - loss: 0.0072 - val_loss: 0.0101\n",
            "Epoch 47/150\n",
            "6/6 [==============================] - 1s 116ms/step - loss: 0.0070 - val_loss: 0.0113\n",
            "Epoch 48/150\n",
            "6/6 [==============================] - 0s 79ms/step - loss: 0.0072 - val_loss: 0.0101\n",
            "Epoch 49/150\n",
            "6/6 [==============================] - 0s 82ms/step - loss: 0.0083 - val_loss: 0.0101\n",
            "Epoch 50/150\n",
            "6/6 [==============================] - 0s 80ms/step - loss: 0.0070 - val_loss: 0.0113\n",
            "Epoch 51/150\n",
            "6/6 [==============================] - 0s 82ms/step - loss: 0.0073 - val_loss: 0.0118\n",
            "Epoch 52/150\n",
            "6/6 [==============================] - 0s 80ms/step - loss: 0.0073 - val_loss: 0.0100\n",
            "Epoch 53/150\n",
            "6/6 [==============================] - 0s 81ms/step - loss: 0.0068 - val_loss: 0.0101\n",
            "Epoch 54/150\n",
            "6/6 [==============================] - 0s 82ms/step - loss: 0.0069 - val_loss: 0.0107\n",
            "Epoch 55/150\n",
            "6/6 [==============================] - 0s 82ms/step - loss: 0.0060 - val_loss: 0.0099\n",
            "Epoch 56/150\n",
            "6/6 [==============================] - 0s 81ms/step - loss: 0.0077 - val_loss: 0.0109\n",
            "Epoch 57/150\n",
            "6/6 [==============================] - 1s 88ms/step - loss: 0.0071 - val_loss: 0.0105\n",
            "Epoch 58/150\n",
            "6/6 [==============================] - 0s 81ms/step - loss: 0.0082 - val_loss: 0.0098\n",
            "Epoch 59/150\n",
            "6/6 [==============================] - 0s 83ms/step - loss: 0.0073 - val_loss: 0.0100\n",
            "Epoch 60/150\n",
            "6/6 [==============================] - 0s 84ms/step - loss: 0.0074 - val_loss: 0.0107\n",
            "Epoch 61/150\n",
            "6/6 [==============================] - 0s 82ms/step - loss: 0.0069 - val_loss: 0.0099\n",
            "Epoch 62/150\n",
            "6/6 [==============================] - 0s 81ms/step - loss: 0.0066 - val_loss: 0.0101\n",
            "Epoch 63/150\n",
            "6/6 [==============================] - 0s 82ms/step - loss: 0.0067 - val_loss: 0.0102\n",
            "Epoch 64/150\n",
            "6/6 [==============================] - 0s 79ms/step - loss: 0.0066 - val_loss: 0.0092\n",
            "Epoch 65/150\n",
            "6/6 [==============================] - 0s 80ms/step - loss: 0.0060 - val_loss: 0.0097\n",
            "Epoch 66/150\n",
            "6/6 [==============================] - 0s 82ms/step - loss: 0.0066 - val_loss: 0.0119\n",
            "Epoch 67/150\n",
            "6/6 [==============================] - 0s 79ms/step - loss: 0.0067 - val_loss: 0.0095\n",
            "Epoch 68/150\n",
            "6/6 [==============================] - 1s 132ms/step - loss: 0.0067 - val_loss: 0.0100\n",
            "Epoch 69/150\n",
            "6/6 [==============================] - 1s 131ms/step - loss: 0.0072 - val_loss: 0.0095\n",
            "Epoch 70/150\n",
            "6/6 [==============================] - 1s 132ms/step - loss: 0.0071 - val_loss: 0.0092\n",
            "Epoch 71/150\n",
            "6/6 [==============================] - 1s 128ms/step - loss: 0.0063 - val_loss: 0.0089\n",
            "Epoch 72/150\n",
            "6/6 [==============================] - 1s 139ms/step - loss: 0.0059 - val_loss: 0.0102\n",
            "Epoch 73/150\n",
            "6/6 [==============================] - 0s 85ms/step - loss: 0.0064 - val_loss: 0.0092\n",
            "Epoch 74/150\n",
            "6/6 [==============================] - 0s 82ms/step - loss: 0.0054 - val_loss: 0.0089\n",
            "Epoch 75/150\n",
            "6/6 [==============================] - 0s 82ms/step - loss: 0.0066 - val_loss: 0.0093\n",
            "Epoch 76/150\n",
            "6/6 [==============================] - 0s 81ms/step - loss: 0.0061 - val_loss: 0.0096\n",
            "Epoch 77/150\n",
            "6/6 [==============================] - 0s 83ms/step - loss: 0.0068 - val_loss: 0.0089\n",
            "Epoch 78/150\n",
            "6/6 [==============================] - 0s 80ms/step - loss: 0.0059 - val_loss: 0.0085\n",
            "Epoch 79/150\n",
            "6/6 [==============================] - 0s 82ms/step - loss: 0.0049 - val_loss: 0.0085\n",
            "Epoch 80/150\n",
            "6/6 [==============================] - 1s 85ms/step - loss: 0.0049 - val_loss: 0.0089\n",
            "Epoch 81/150\n",
            "6/6 [==============================] - 0s 82ms/step - loss: 0.0053 - val_loss: 0.0092\n",
            "Epoch 82/150\n",
            "6/6 [==============================] - 1s 83ms/step - loss: 0.0051 - val_loss: 0.0084\n",
            "Epoch 83/150\n",
            "6/6 [==============================] - 0s 82ms/step - loss: 0.0063 - val_loss: 0.0081\n",
            "Epoch 84/150\n",
            "6/6 [==============================] - 0s 82ms/step - loss: 0.0064 - val_loss: 0.0079\n",
            "Epoch 85/150\n",
            "6/6 [==============================] - 0s 80ms/step - loss: 0.0060 - val_loss: 0.0090\n",
            "Epoch 86/150\n",
            "6/6 [==============================] - 0s 83ms/step - loss: 0.0051 - val_loss: 0.0100\n",
            "Epoch 87/150\n",
            "6/6 [==============================] - 0s 81ms/step - loss: 0.0045 - val_loss: 0.0076\n",
            "Epoch 88/150\n",
            "6/6 [==============================] - 0s 84ms/step - loss: 0.0054 - val_loss: 0.0077\n",
            "Epoch 89/150\n",
            "6/6 [==============================] - 0s 82ms/step - loss: 0.0050 - val_loss: 0.0083\n",
            "Epoch 90/150\n",
            "6/6 [==============================] - 0s 85ms/step - loss: 0.0043 - val_loss: 0.0082\n",
            "Epoch 91/150\n",
            "6/6 [==============================] - 0s 81ms/step - loss: 0.0052 - val_loss: 0.0075\n",
            "Epoch 92/150\n",
            "6/6 [==============================] - 0s 83ms/step - loss: 0.0053 - val_loss: 0.0078\n",
            "Epoch 93/150\n",
            "6/6 [==============================] - 1s 136ms/step - loss: 0.0050 - val_loss: 0.0079\n",
            "Epoch 94/150\n",
            "6/6 [==============================] - 1s 137ms/step - loss: 0.0053 - val_loss: 0.0079\n",
            "Epoch 95/150\n",
            "6/6 [==============================] - 1s 140ms/step - loss: 0.0048 - val_loss: 0.0074\n",
            "Epoch 96/150\n",
            "6/6 [==============================] - 1s 141ms/step - loss: 0.0049 - val_loss: 0.0082\n",
            "Epoch 97/150\n",
            "6/6 [==============================] - 1s 107ms/step - loss: 0.0058 - val_loss: 0.0091\n",
            "Epoch 98/150\n",
            "6/6 [==============================] - 0s 80ms/step - loss: 0.0062 - val_loss: 0.0075\n",
            "Epoch 99/150\n",
            "6/6 [==============================] - 0s 80ms/step - loss: 0.0052 - val_loss: 0.0072\n",
            "Epoch 100/150\n",
            "6/6 [==============================] - 0s 83ms/step - loss: 0.0043 - val_loss: 0.0075\n",
            "Epoch 101/150\n",
            "6/6 [==============================] - 1s 86ms/step - loss: 0.0042 - val_loss: 0.0069\n",
            "Epoch 102/150\n",
            "6/6 [==============================] - 1s 87ms/step - loss: 0.0037 - val_loss: 0.0069\n",
            "Epoch 103/150\n",
            "6/6 [==============================] - 0s 81ms/step - loss: 0.0044 - val_loss: 0.0087\n",
            "Epoch 104/150\n",
            "6/6 [==============================] - 0s 81ms/step - loss: 0.0044 - val_loss: 0.0075\n",
            "Epoch 105/150\n",
            "6/6 [==============================] - 0s 80ms/step - loss: 0.0060 - val_loss: 0.0074\n",
            "Epoch 106/150\n",
            "6/6 [==============================] - 0s 83ms/step - loss: 0.0042 - val_loss: 0.0066\n",
            "Epoch 107/150\n",
            "6/6 [==============================] - 0s 80ms/step - loss: 0.0045 - val_loss: 0.0070\n",
            "Epoch 108/150\n",
            "6/6 [==============================] - 0s 84ms/step - loss: 0.0048 - val_loss: 0.0080\n",
            "Epoch 109/150\n",
            "6/6 [==============================] - 0s 81ms/step - loss: 0.0044 - val_loss: 0.0064\n",
            "Epoch 110/150\n",
            "6/6 [==============================] - 0s 84ms/step - loss: 0.0050 - val_loss: 0.0063\n",
            "Epoch 111/150\n",
            "6/6 [==============================] - 0s 81ms/step - loss: 0.0054 - val_loss: 0.0082\n",
            "Epoch 112/150\n",
            "6/6 [==============================] - 1s 86ms/step - loss: 0.0052 - val_loss: 0.0062\n",
            "Epoch 113/150\n",
            "6/6 [==============================] - 0s 82ms/step - loss: 0.0043 - val_loss: 0.0065\n",
            "Epoch 114/150\n",
            "6/6 [==============================] - 0s 83ms/step - loss: 0.0062 - val_loss: 0.0064\n",
            "Epoch 115/150\n",
            "6/6 [==============================] - 0s 81ms/step - loss: 0.0045 - val_loss: 0.0064\n",
            "Epoch 116/150\n",
            "6/6 [==============================] - 0s 83ms/step - loss: 0.0051 - val_loss: 0.0069\n",
            "Epoch 117/150\n",
            "6/6 [==============================] - 1s 92ms/step - loss: 0.0045 - val_loss: 0.0062\n",
            "Epoch 118/150\n",
            "6/6 [==============================] - 1s 140ms/step - loss: 0.0039 - val_loss: 0.0060\n",
            "Epoch 119/150\n",
            "6/6 [==============================] - 1s 137ms/step - loss: 0.0046 - val_loss: 0.0062\n",
            "Epoch 120/150\n",
            "6/6 [==============================] - 1s 128ms/step - loss: 0.0040 - val_loss: 0.0058\n",
            "Epoch 121/150\n",
            "6/6 [==============================] - 1s 165ms/step - loss: 0.0036 - val_loss: 0.0064\n",
            "Epoch 122/150\n",
            "6/6 [==============================] - 1s 159ms/step - loss: 0.0052 - val_loss: 0.0057\n",
            "Epoch 123/150\n",
            "6/6 [==============================] - 1s 134ms/step - loss: 0.0040 - val_loss: 0.0055\n",
            "Epoch 124/150\n",
            "6/6 [==============================] - 1s 133ms/step - loss: 0.0043 - val_loss: 0.0067\n",
            "Epoch 125/150\n",
            "6/6 [==============================] - 1s 136ms/step - loss: 0.0040 - val_loss: 0.0055\n",
            "Epoch 126/150\n",
            "6/6 [==============================] - 1s 145ms/step - loss: 0.0043 - val_loss: 0.0055\n",
            "Epoch 127/150\n",
            "6/6 [==============================] - 1s 134ms/step - loss: 0.0046 - val_loss: 0.0056\n",
            "Epoch 128/150\n",
            "6/6 [==============================] - 1s 91ms/step - loss: 0.0051 - val_loss: 0.0060\n",
            "Epoch 129/150\n",
            "6/6 [==============================] - 0s 84ms/step - loss: 0.0047 - val_loss: 0.0055\n",
            "Epoch 130/150\n",
            "6/6 [==============================] - 0s 82ms/step - loss: 0.0046 - val_loss: 0.0053\n",
            "Epoch 131/150\n",
            "6/6 [==============================] - 0s 84ms/step - loss: 0.0041 - val_loss: 0.0067\n",
            "Epoch 132/150\n",
            "6/6 [==============================] - 0s 81ms/step - loss: 0.0043 - val_loss: 0.0053\n",
            "Epoch 133/150\n",
            "6/6 [==============================] - 0s 82ms/step - loss: 0.0047 - val_loss: 0.0053\n",
            "Epoch 134/150\n",
            "6/6 [==============================] - 0s 81ms/step - loss: 0.0038 - val_loss: 0.0064\n",
            "Epoch 135/150\n",
            "6/6 [==============================] - 1s 84ms/step - loss: 0.0044 - val_loss: 0.0055\n",
            "Epoch 136/150\n",
            "6/6 [==============================] - 0s 80ms/step - loss: 0.0041 - val_loss: 0.0053\n",
            "Epoch 137/150\n",
            "6/6 [==============================] - 0s 84ms/step - loss: 0.0045 - val_loss: 0.0054\n",
            "Epoch 138/150\n",
            "6/6 [==============================] - 0s 82ms/step - loss: 0.0039 - val_loss: 0.0056\n",
            "Epoch 139/150\n",
            "6/6 [==============================] - 0s 83ms/step - loss: 0.0041 - val_loss: 0.0061\n",
            "Epoch 140/150\n",
            "6/6 [==============================] - 1s 132ms/step - loss: 0.0045 - val_loss: 0.0062\n",
            "Epoch 141/150\n",
            "6/6 [==============================] - 1s 136ms/step - loss: 0.0040 - val_loss: 0.0051\n",
            "Epoch 142/150\n",
            "6/6 [==============================] - 1s 130ms/step - loss: 0.0036 - val_loss: 0.0050\n",
            "Epoch 143/150\n",
            "6/6 [==============================] - 1s 131ms/step - loss: 0.0038 - val_loss: 0.0065\n",
            "Epoch 144/150\n",
            "6/6 [==============================] - 1s 125ms/step - loss: 0.0050 - val_loss: 0.0047\n",
            "Epoch 145/150\n",
            "6/6 [==============================] - 0s 80ms/step - loss: 0.0050 - val_loss: 0.0050\n",
            "Epoch 146/150\n",
            "6/6 [==============================] - 0s 82ms/step - loss: 0.0043 - val_loss: 0.0062\n",
            "Epoch 147/150\n",
            "6/6 [==============================] - 0s 81ms/step - loss: 0.0041 - val_loss: 0.0060\n",
            "Epoch 148/150\n",
            "6/6 [==============================] - 0s 81ms/step - loss: 0.0048 - val_loss: 0.0054\n",
            "Epoch 149/150\n",
            "6/6 [==============================] - 1s 82ms/step - loss: 0.0062 - val_loss: 0.0050\n",
            "Epoch 150/150\n",
            "6/6 [==============================] - 0s 82ms/step - loss: 0.0051 - val_loss: 0.0054\n"
          ]
        },
        {
          "output_type": "execute_result",
          "data": {
            "text/plain": [
              "<keras.src.callbacks.History at 0x7d0860f80940>"
            ]
          },
          "metadata": {},
          "execution_count": 37
        }
      ],
      "source": [
        "gru.fit(X_train, Y_train, validation_data= (X_val,Y_val), epochs=150, batch_size=32)"
      ],
      "id": "cd0a8a26"
    },
    {
      "cell_type": "code",
      "execution_count": null,
      "metadata": {
        "colab": {
          "base_uri": "https://localhost:8080/",
          "height": 447
        },
        "id": "2c4032cd",
        "outputId": "13291d81-c3eb-460b-c44d-717c1ffd687d"
      },
      "outputs": [
        {
          "output_type": "execute_result",
          "data": {
            "text/plain": [
              "[<matplotlib.lines.Line2D at 0x7d084d7f25f0>]"
            ]
          },
          "metadata": {},
          "execution_count": 38
        },
        {
          "output_type": "display_data",
          "data": {
            "text/plain": [
              "<Figure size 640x480 with 1 Axes>"
            ],
            "image/png": "[encoded data removed]"
          },
          "metadata": {}
        }
      ],
      "source": [
        "plt.plot(gru.history.history['loss'],color='red',label='train')\n",
        "plt.plot(gru.history.history['val_loss'],color='blue',label='train')"
      ],
      "id": "2c4032cd"
    },
    {
      "cell_type": "code",
      "execution_count": null,
      "metadata": {
        "id": "34b33183",
        "colab": {
          "base_uri": "https://localhost:8080/"
        },
        "outputId": "ea00efb4-e4f2-484f-e58e-0fbec4abc61f"
      },
      "outputs": [
        {
          "output_type": "stream",
          "name": "stdout",
          "text": [
            "2/2 [==============================] - 2s 18ms/step\n"
          ]
        }
      ],
      "source": [
        "gru_pred = gru.predict(X_test)"
      ],
      "id": "34b33183"
    },
    {
      "cell_type": "code",
      "execution_count": null,
      "metadata": {
        "colab": {
          "base_uri": "https://localhost:8080/"
        },
        "id": "77955218",
        "outputId": "fbf7d802-fdb5-412b-df05-0ec62b4d4bfc"
      },
      "outputs": [
        {
          "output_type": "stream",
          "name": "stdout",
          "text": [
            "2/2 [==============================] - 3s 21ms/step\n"
          ]
        }
      ],
      "source": [
        "lstm_pred = lstm.predict(X_test)"
      ],
      "id": "77955218"
    },
    {
      "cell_type": "code",
      "execution_count": null,
      "metadata": {
        "colab": {
          "base_uri": "https://localhost:8080/"
        },
        "id": "87fb07c8",
        "outputId": "16757a27-f6d0-44b7-a6e8-c39632a60613"
      },
      "outputs": [
        {
          "output_type": "execute_result",
          "data": {
            "text/plain": [
              "(array([0.42237175], dtype=float32),\n",
              " array([0.2547924], dtype=float32),\n",
              " 0.4646604086140256)"
            ]
          },
          "metadata": {},
          "execution_count": 41
        }
      ],
      "source": [
        "gru_pred[0],lstm_pred[0],Y_test[0]"
      ],
      "id": "87fb07c8"
    },
    {
      "cell_type": "code",
      "execution_count": null,
      "metadata": {
        "colab": {
          "base_uri": "https://localhost:8080/",
          "height": 430
        },
        "id": "eb4825dc",
        "outputId": "0e48cd74-d44c-4d94-c1ee-6d6e583f12ca",
        "scrolled": false
      },
      "outputs": [
        {
          "output_type": "display_data",
          "data": {
            "text/plain": [
              "<Figure size 640x480 with 1 Axes>"
            ],
            "image/png": "[encoded data removed]"
          },
          "metadata": {}
        }
      ],
      "source": [
        "plt.plot(lstm_pred, label='LSTM')\n",
        "plt.plot(gru_pred, label='GRU')\n",
        "plt.plot(Y_test,label=\"Test\")\n",
        "plt.legend()\n",
        "plt.show()"
      ],
      "id": "eb4825dc"
    },
    {
      "cell_type": "code",
      "execution_count": null,
      "metadata": {
        "id": "fa2d7602"
      },
      "outputs": [],
      "source": [
        "lstm_pred = np.array(lstm_pred)\n",
        "gru_pred = np.array(gru_pred)"
      ],
      "id": "fa2d7602"
    },
    {
      "cell_type": "code",
      "execution_count": null,
      "metadata": {
        "id": "3d3c7462"
      },
      "outputs": [],
      "source": [
        "alpha = 0.8\n",
        "hybrid_pred = alpha * lstm_pred + (1 - alpha) * gru_pred"
      ],
      "id": "3d3c7462"
    },
    {
      "cell_type": "markdown",
      "source": [],
      "metadata": {
        "id": "X_8ExhwENRRK"
      },
      "id": "X_8ExhwENRRK"
    },
    {
      "cell_type": "code",
      "execution_count": null,
      "metadata": {
        "colab": {
          "base_uri": "https://localhost:8080/",
          "height": 430
        },
        "id": "0ddc4778",
        "outputId": "1a1766e1-ab2b-4630-c91f-25c9fd9278f8"
      },
      "outputs": [
        {
          "output_type": "display_data",
          "data": {
            "text/plain": [
              "<Figure size 640x480 with 1 Axes>"
            ],
            "image/png": "[encoded data removed]"
          },
          "metadata": {}
        }
      ],
      "source": [
        "plt.plot(hybrid_pred,label=\"Hybrid\")\n",
        "plt.plot(Y_test,label=\"Test\")\n",
        "plt.legend()\n",
        "plt.show()"
      ],
      "id": "0ddc4778"
    },
    {
      "cell_type": "code",
      "execution_count": null,
      "metadata": {
        "colab": {
          "base_uri": "https://localhost:8080/"
        },
        "id": "0f87e879",
        "outputId": "0ec6f552-0e5b-48e6-b67c-f9a2cb4ae429",
        "scrolled": true
      },
      "outputs": [
        {
          "output_type": "execute_result",
          "data": {
            "text/plain": [
              "(array([[869.4126 ],\n",
              "        [871.7888 ],\n",
              "        [874.22455],\n",
              "        [874.9412 ],\n",
              "        [880.3805 ],\n",
              "        [882.2075 ],\n",
              "        [884.44226],\n",
              "        [884.3146 ],\n",
              "        [881.2363 ],\n",
              "        [880.9931 ],\n",
              "        [879.5649 ],\n",
              "        [881.40717],\n",
              "        [881.8421 ],\n",
              "        [883.07263],\n",
              "        [887.1066 ],\n",
              "        [893.54724],\n",
              "        [901.4617 ],\n",
              "        [908.2214 ],\n",
              "        [915.1355 ],\n",
              "        [921.1083 ],\n",
              "        [922.1536 ],\n",
              "        [922.08563],\n",
              "        [923.4041 ],\n",
              "        [922.94385],\n",
              "        [926.08484],\n",
              "        [932.83575],\n",
              "        [937.9318 ],\n",
              "        [940.7243 ],\n",
              "        [939.9062 ],\n",
              "        [939.5064 ],\n",
              "        [934.45447],\n",
              "        [929.8593 ],\n",
              "        [925.63336],\n",
              "        [922.04834],\n",
              "        [919.2849 ],\n",
              "        [916.00415],\n",
              "        [913.46094]], dtype=float32),\n",
              " array([[901.35],\n",
              "        [902.45],\n",
              "        [890.85],\n",
              "        [908.05],\n",
              "        [898.95],\n",
              "        [900.65],\n",
              "        [893.2 ],\n",
              "        [878.9 ],\n",
              "        [890.65],\n",
              "        [892.25],\n",
              "        [909.7 ],\n",
              "        [906.45],\n",
              "        [902.  ],\n",
              "        [908.8 ],\n",
              "        [921.75],\n",
              "        [932.95],\n",
              "        [930.3 ],\n",
              "        [929.9 ],\n",
              "        [931.9 ],\n",
              "        [922.15],\n",
              "        [922.65],\n",
              "        [933.6 ],\n",
              "        [930.6 ],\n",
              "        [940.2 ],\n",
              "        [952.9 ],\n",
              "        [946.75],\n",
              "        [937.4 ],\n",
              "        [930.3 ],\n",
              "        [938.85],\n",
              "        [927.45],\n",
              "        [923.7 ],\n",
              "        [921.4 ],\n",
              "        [920.35],\n",
              "        [919.8 ],\n",
              "        [913.6 ],\n",
              "        [911.7 ],\n",
              "        [894.95]]))"
            ]
          },
          "metadata": {},
          "execution_count": 46
        }
      ],
      "source": [
        "hybrid_pred_real = scaler.inverse_transform(hybrid_pred)\n",
        "y_real = scaler.inverse_transform(Y_test.reshape(-1,1))\n",
        "hybrid_pred_real,y_real"
      ],
      "id": "0f87e879"
    },
    {
      "cell_type": "code",
      "execution_count": null,
      "metadata": {
        "colab": {
          "base_uri": "https://localhost:8080/"
        },
        "id": "0182282c",
        "outputId": "32bc5331-aa99-4b62-a441-9a1cdeb1a971"
      },
      "outputs": [
        {
          "output_type": "execute_result",
          "data": {
            "text/plain": [
              "15.787205711570943"
            ]
          },
          "metadata": {},
          "execution_count": 47
        }
      ],
      "source": [
        "from sklearn.metrics import mean_absolute_error\n",
        "mae = mean_absolute_error(y_real, hybrid_pred_real)\n",
        "mae"
      ],
      "id": "0182282c"
    },
    {
      "cell_type": "code",
      "execution_count": null,
      "metadata": {
        "colab": {
          "base_uri": "https://localhost:8080/"
        },
        "id": "6f67e5ab",
        "outputId": "4e5275f3-6509-42bd-d178-3e648878fabd"
      },
      "outputs": [
        {
          "output_type": "stream",
          "name": "stdout",
          "text": [
            "MAE: 15.787205711570943\n",
            "MSE: 366.03102383820584\n",
            "RMSE: 19.131937273527893\n"
          ]
        }
      ],
      "source": [
        "from sklearn.metrics import mean_squared_error\n",
        "mse = mean_squared_error(y_real, hybrid_pred_real)\n",
        "rmse = np.sqrt(mse)\n",
        "\n",
        "print(f\"MAE: {mae}\")\n",
        "print(f\"MSE: {mse}\")\n",
        "print(f\"RMSE: {rmse}\")"
      ],
      "id": "6f67e5ab"
    },
    {
      "cell_type": "code",
      "execution_count": null,
      "metadata": {
        "colab": {
          "base_uri": "https://localhost:8080/"
        },
        "id": "5f7da9ef",
        "outputId": "4d5cfe25-28c6-41ca-898d-70912216e511"
      },
      "outputs": [
        {
          "output_type": "stream",
          "name": "stdout",
          "text": [
            "MAE: 18.757752454603036\n",
            "MSE: 519.3948451889283\n",
            "RMSE: 22.79023574228508\n"
          ]
        }
      ],
      "source": [
        "lstm_pred = scaler.inverse_transform(lstm_pred)\n",
        "mae1 = mean_absolute_error(y_real, lstm_pred)\n",
        "mse1 = mean_squared_error(y_real, lstm_pred)\n",
        "rmse1 = np.sqrt(mse1)\n",
        "print(f\"MAE: {mae1}\")\n",
        "print(f\"MSE: {mse1}\")\n",
        "print(f\"RMSE: {rmse1}\")"
      ],
      "id": "5f7da9ef"
    },
    {
      "cell_type": "code",
      "execution_count": null,
      "metadata": {
        "colab": {
          "base_uri": "https://localhost:8080/"
        },
        "id": "c4f0a635",
        "outputId": "ede62842-59c8-47d9-b329-a53405b33d49"
      },
      "outputs": [
        {
          "output_type": "stream",
          "name": "stdout",
          "text": [
            "MAE: 7.948791173986481\n",
            "MSE: 87.78682187958324\n",
            "RMSE: 9.369462197991048\n"
          ]
        }
      ],
      "source": [
        "gru_pred = scaler.inverse_transform(gru_pred)\n",
        "mae1 = mean_absolute_error(y_real, gru_pred)\n",
        "mse1 = mean_squared_error(y_real, gru_pred)\n",
        "rmse1 = np.sqrt(mse1)\n",
        "print(f\"MAE: {mae1}\")\n",
        "print(f\"MSE: {mse1}\")\n",
        "print(f\"RMSE: {rmse1}\")"
      ],
      "id": "c4f0a635"
    },
    {
      "cell_type": "code",
      "source": [
        "lstm_pred_train = lstm.predict(X_train)\n",
        "gru_pred_train = gru.predict(X_train)\n"
      ],
      "metadata": {
        "colab": {
          "base_uri": "https://localhost:8080/"
        },
        "id": "mt3mVAUROt44",
        "outputId": "72c3879d-6a9d-416d-f9f5-907d112cac04"
      },
      "id": "mt3mVAUROt44",
      "execution_count": null,
      "outputs": [
        {
          "output_type": "stream",
          "name": "stdout",
          "text": [
            "6/6 [==============================] - 0s 32ms/step\n",
            "6/6 [==============================] - 0s 20ms/step\n"
          ]
        }
      ]
    },
    {
      "cell_type": "code",
      "source": [
        "lstm_pred_val = lstm.predict(X_val)\n",
        "gru_pred_val = gru.predict(X_val)"
      ],
      "metadata": {
        "colab": {
          "base_uri": "https://localhost:8080/"
        },
        "id": "nITFKJ2hRUuo",
        "outputId": "f50f7d5a-db41-4597-df2e-9d2ed6d46fac"
      },
      "id": "nITFKJ2hRUuo",
      "execution_count": null,
      "outputs": [
        {
          "output_type": "stream",
          "name": "stdout",
          "text": [
            "1/1 [==============================] - 0s 36ms/step\n",
            "1/1 [==============================] - 0s 34ms/step\n"
          ]
        }
      ]
    },
    {
      "cell_type": "code",
      "execution_count": null,
      "metadata": {
        "id": "ee713efa"
      },
      "outputs": [],
      "source": [],
      "id": "ee713efa"
    },
    {
      "cell_type": "code",
      "execution_count": null,
      "metadata": {
        "id": "bcf9f9c9"
      },
      "outputs": [],
      "source": [
        "hybrid_prediction_train = alpha * lstm_pred_train + (1 - alpha) * gru_pred_train\n",
        "hybrid_prediction_train = scaler.inverse_transform(hybrid_prediction_train)"
      ],
      "id": "bcf9f9c9"
    },
    {
      "cell_type": "code",
      "source": [
        "hybrid_prediction_val = alpha * lstm_pred_val + (1 - alpha) * gru_pred_val\n",
        "hybrid_prediction_val = scaler.inverse_transform(hybrid_prediction_val)"
      ],
      "metadata": {
        "id": "szr2d-sTPbmZ"
      },
      "id": "szr2d-sTPbmZ",
      "execution_count": null,
      "outputs": []
    },
    {
      "cell_type": "code",
      "source": [
        "hybrid_prediction_val"
      ],
      "metadata": {
        "colab": {
          "base_uri": "https://localhost:8080/"
        },
        "id": "LGftUUlXQyom",
        "outputId": "edff6304-9f4f-41ca-e483-93cbd4b717f4"
      },
      "id": "LGftUUlXQyom",
      "execution_count": null,
      "outputs": [
        {
          "output_type": "execute_result",
          "data": {
            "text/plain": [
              "array([[860.27344],\n",
              "       [859.5055 ],\n",
              "       [857.6695 ],\n",
              "       [854.56396],\n",
              "       [852.00806],\n",
              "       [849.31256],\n",
              "       [853.10614],\n",
              "       [856.2965 ],\n",
              "       [857.7699 ],\n",
              "       [858.994  ],\n",
              "       [860.3513 ],\n",
              "       [862.82245],\n",
              "       [863.875  ],\n",
              "       [864.6013 ],\n",
              "       [866.0169 ],\n",
              "       [864.15924],\n",
              "       [864.26514],\n",
              "       [863.1652 ],\n",
              "       [864.2899 ],\n",
              "       [863.80634],\n",
              "       [865.2396 ]], dtype=float32)"
            ]
          },
          "metadata": {},
          "execution_count": 55
        }
      ]
    },
    {
      "cell_type": "code",
      "execution_count": null,
      "metadata": {
        "id": "7ba7e409",
        "colab": {
          "base_uri": "https://localhost:8080/",
          "height": 193
        },
        "outputId": "dd85ca87-8d93-4809-a84f-0a10089698ce"
      },
      "outputs": [
        {
          "output_type": "error",
          "ename": "NameError",
          "evalue": "ignored",
          "traceback": [
            "\u001b[0;31m---------------------------------------------------------------------------\u001b[0m",
            "\u001b[0;31mNameError\u001b[0m                                 Traceback (most recent call last)",
            "\u001b[0;32m<ipython-input-56-4d136a681365>\u001b[0m in \u001b[0;36m<cell line: 2>\u001b[0;34m()\u001b[0m\n\u001b[1;32m      1\u001b[0m \u001b[0mhybrid_prediction_train_flatten\u001b[0m \u001b[0;34m=\u001b[0m \u001b[0mhybrid_prediction_train\u001b[0m\u001b[0;34m.\u001b[0m\u001b[0mflatten\u001b[0m\u001b[0;34m(\u001b[0m\u001b[0;34m)\u001b[0m\u001b[0;34m\u001b[0m\u001b[0;34m\u001b[0m\u001b[0m\n\u001b[0;32m----> 2\u001b[0;31m \u001b[0mpreds_train\u001b[0m \u001b[0;34m=\u001b[0m \u001b[0mpd\u001b[0m\u001b[0;34m.\u001b[0m\u001b[0mSeries\u001b[0m\u001b[0;34m(\u001b[0m\u001b[0mhybrid_prediction_train_flatten\u001b[0m\u001b[0;34m,\u001b[0m\u001b[0mindex\u001b[0m\u001b[0;34m=\u001b[0m\u001b[0mtrain_index\u001b[0m\u001b[0;34m[\u001b[0m\u001b[0;36m16\u001b[0m\u001b[0;34m:\u001b[0m\u001b[0;34m]\u001b[0m\u001b[0;34m)\u001b[0m\u001b[0;34m\u001b[0m\u001b[0;34m\u001b[0m\u001b[0m\n\u001b[0m",
            "\u001b[0;31mNameError\u001b[0m: name 'train_index' is not defined"
          ]
        }
      ],
      "source": [
        "hybrid_prediction_train_flatten = hybrid_prediction_train.flatten()\n",
        "preds_train = pd.Series(hybrid_prediction_train_flatten,index=train_index[16:])"
      ],
      "id": "7ba7e409"
    },
    {
      "cell_type": "code",
      "execution_count": null,
      "metadata": {
        "id": "33df1689",
        "scrolled": true
      },
      "outputs": [],
      "source": [
        "y_plot = df[target]\n",
        "y_plot = y_plot[timestamp:]\n"
      ],
      "id": "33df1689"
    },
    {
      "cell_type": "code",
      "source": [
        "indexes = y_plot.index"
      ],
      "metadata": {
        "id": "fUCVLo2CThvB"
      },
      "id": "fUCVLo2CThvB",
      "execution_count": null,
      "outputs": []
    },
    {
      "cell_type": "code",
      "source": [
        "indexes"
      ],
      "metadata": {
        "id": "v2KbAWNxTqzh"
      },
      "id": "v2KbAWNxTqzh",
      "execution_count": null,
      "outputs": []
    },
    {
      "cell_type": "code",
      "execution_count": null,
      "metadata": {
        "id": "6b26a9d3"
      },
      "outputs": [],
      "source": [
        "hybrid_pred_test = hybrid_pred_real.flatten()"
      ],
      "id": "6b26a9d3"
    },
    {
      "cell_type": "code",
      "source": [
        "hybrid_prediction_train = hybrid_prediction_train.flatten()\n",
        "hybrid_prediction_val = hybrid_prediction_val.flatten()"
      ],
      "metadata": {
        "id": "gRy3IlWhSt0f"
      },
      "id": "gRy3IlWhSt0f",
      "execution_count": null,
      "outputs": []
    },
    {
      "cell_type": "code",
      "source": [
        "value = np.concatenate((hybrid_prediction_train,hybrid_prediction_val))\n",
        "value = np.concatenate((value,hybrid_pred_test))"
      ],
      "metadata": {
        "id": "SE_-OUrUS9H1"
      },
      "id": "SE_-OUrUS9H1",
      "execution_count": null,
      "outputs": []
    },
    {
      "cell_type": "code",
      "source": [
        "value_df = pd.DataFrame(value,index = indexes,columns=[\"Close\"])\n"
      ],
      "metadata": {
        "id": "cqLFcC7aTvkw"
      },
      "id": "cqLFcC7aTvkw",
      "execution_count": null,
      "outputs": []
    },
    {
      "cell_type": "code",
      "source": [
        "y_df = pd.DataFrame(y_plot)\n",
        "y_df"
      ],
      "metadata": {
        "id": "rpVhAfsSUTiB"
      },
      "id": "rpVhAfsSUTiB",
      "execution_count": null,
      "outputs": []
    },
    {
      "cell_type": "code",
      "execution_count": null,
      "metadata": {
        "id": "58220413"
      },
      "outputs": [],
      "source": [
        "plt.figure(figsize=(16, 8))\n",
        "plt.plot(value_df, label='Predicted Price')\n",
        "plt.scatter(y_df.index,y_df['close '],label='Real Price')\n",
        "#plt.plot(preds_test[target],label='Prediction_test')\n",
        "plt.legend()\n",
        "plt.show()"
      ],
      "id": "58220413"
    },
    {
      "cell_type": "code",
      "execution_count": null,
      "metadata": {
        "id": "52c821b4"
      },
      "outputs": [],
      "source": [
        "new_df = df.reset_index()\n",
        "new_df = new_df[[\"Date \",\"close \"]]\n",
        "new_df = new_df.rename(columns = {\"Date \":\"ds\",\"close \":\"y\"})\n",
        "new_df.head()"
      ],
      "id": "52c821b4"
    },
    {
      "cell_type": "code",
      "execution_count": null,
      "metadata": {
        "id": "-gO0UubEnV23"
      },
      "outputs": [],
      "source": [
        "import datetime\n",
        "new_df['ds'] = new_df['ds'].apply(lambda x: datetime.datetime.strptime(x, '%d-%b-%Y').strftime('%Y-%m-%d'))"
      ],
      "id": "-gO0UubEnV23"
    },
    {
      "cell_type": "code",
      "execution_count": null,
      "metadata": {
        "id": "KZ_0L5RSvYwM"
      },
      "outputs": [],
      "source": [
        "from prophet import Prophet\n",
        "fbp = Prophet(daily_seasonality = True)\n",
        "fbp.fit(new_df)\n",
        "fut = fbp.make_future_dataframe(periods=2)\n",
        "forecast = fbp.predict(fut)"
      ],
      "id": "KZ_0L5RSvYwM"
    },
    {
      "cell_type": "code",
      "execution_count": null,
      "metadata": {
        "id": "4XgKkZpLv0Ai"
      },
      "outputs": [],
      "source": [
        "from prophet.plot import plot_plotly, plot_components_plotly\n",
        "plot_plotly(fbp, forecast)"
      ],
      "id": "4XgKkZpLv0Ai"
    },
    {
      "cell_type": "code",
      "execution_count": null,
      "metadata": {
        "colab": {
          "base_uri": "https://localhost:8080/"
        },
        "id": "-zUE6m_Fv7-p",
        "outputId": "3c82d95b-4f35-4c9f-fee7-03f0c5cad833"
      },
      "outputs": [
        {
          "output_type": "execute_result",
          "data": {
            "text/plain": [
              "<prophet.forecaster.Prophet at 0x7e78e861db40>"
            ]
          },
          "metadata": {},
          "execution_count": 133
        }
      ],
      "source": [
        "\n"
      ],
      "id": "-zUE6m_Fv7-p"
    },
    {
      "cell_type": "code",
      "execution_count": null,
      "metadata": {
        "id": "Z0cxxl6bwCZb"
      },
      "outputs": [],
      "source": [],
      "id": "Z0cxxl6bwCZb"
    },
    {
      "cell_type": "code",
      "execution_count": null,
      "metadata": {
        "id": "JYvKJ2DIwMtQ"
      },
      "outputs": [],
      "source": [],
      "id": "JYvKJ2DIwMtQ"
    },
    {
      "cell_type": "code",
      "execution_count": null,
      "metadata": {
        "id": "G9McO7c-wV5X"
      },
      "outputs": [],
      "source": [],
      "id": "G9McO7c-wV5X"
    }
  ],
  "metadata": {
    "colab": {
      "provenance": []
    },
    "kernelspec": {
      "display_name": "Python 3 (ipykernel)",
      "language": "python",
      "name": "python3"
    },
    "language_info": {
      "codemirror_mode": {
        "name": "ipython",
        "version": 3
      },
      "file_extension": ".py",
      "mimetype": "text/x-python",
      "name": "python",
      "nbconvert_exporter": "python",
      "pygments_lexer": "ipython3",
      "version": "3.11.5"
    }
  },
  "nbformat": 4,
  "nbformat_minor": 5
}